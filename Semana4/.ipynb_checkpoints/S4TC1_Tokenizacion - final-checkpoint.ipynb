{
 "cells": [
  {
   "cell_type": "markdown",
   "metadata": {},
   "source": [
    "![image info](https://raw.githubusercontent.com/albahnsen/MIAD_ML_and_NLP/main/images/banner_1.png)"
   ]
  },
  {
   "cell_type": "markdown",
   "metadata": {},
   "source": [
    "# Taller: Tokenización de textos  \n",
    "\n",
    "En este taller podrán poner en práctica sus conocimientos sobre preprocesamiento de texto (tokenización). El taller está constituido por 5 puntos, en los cuales deberan seguir las intrucciones de cada numeral para su desarrollo."
   ]
  },
  {
   "cell_type": "markdown",
   "metadata": {},
   "source": [
    "## Datos detección de toxicidad en comentarios\n",
    "\n",
    "En este taller se usará el conjunto de datos de detección de toxicidad en comentarios de la base de datos de Kaggle. Cada observación es un comentario que tiene como variable objetivo (target) la probabilidad de ser un comentario tóxico. El objetivo es predecir la toxicidad de cada comentario. Para más detalles pueden visitar el siguiente enlace: [datos](https://www.kaggle.com/c/jigsaw-unintended-bias-in-toxicity-classification/data)."
   ]
  },
  {
   "cell_type": "code",
   "execution_count": 1,
   "metadata": {},
   "outputs": [],
   "source": [
    "import warnings\n",
    "warnings.filterwarnings('ignore')"
   ]
  },
  {
   "cell_type": "code",
   "execution_count": 6,
   "metadata": {},
   "outputs": [],
   "source": [
    "# Importación librerías\n",
    "import matplotlib.pyplot as plt\n",
    "import pandas as pd\n",
    "import pandas as pd\n",
    "import numpy as np\n",
    "import scipy as sp\n",
    "from sklearn.model_selection import train_test_split, cross_val_score\n",
    "from sklearn.feature_extraction.text import CountVectorizer, TfidfVectorizer\n",
    "from sklearn import metrics\n",
    "%matplotlib inline"
   ]
  },
  {
   "cell_type": "code",
   "execution_count": 3,
   "metadata": {},
   "outputs": [
    {
     "data": {
      "text/html": [
       "<div>\n",
       "<style scoped>\n",
       "    .dataframe tbody tr th:only-of-type {\n",
       "        vertical-align: middle;\n",
       "    }\n",
       "\n",
       "    .dataframe tbody tr th {\n",
       "        vertical-align: top;\n",
       "    }\n",
       "\n",
       "    .dataframe thead th {\n",
       "        text-align: right;\n",
       "    }\n",
       "</style>\n",
       "<table border=\"1\" class=\"dataframe\">\n",
       "  <thead>\n",
       "    <tr style=\"text-align: right;\">\n",
       "      <th></th>\n",
       "      <th>id</th>\n",
       "      <th>comment_text</th>\n",
       "      <th>target</th>\n",
       "    </tr>\n",
       "  </thead>\n",
       "  <tbody>\n",
       "    <tr>\n",
       "      <th>0</th>\n",
       "      <td>6101457</td>\n",
       "      <td>What are you talking about? What group do Pete...</td>\n",
       "      <td>0.0</td>\n",
       "    </tr>\n",
       "    <tr>\n",
       "      <th>1</th>\n",
       "      <td>5342103</td>\n",
       "      <td>NO!, Let him, we need a Conservative government.</td>\n",
       "      <td>0.0</td>\n",
       "    </tr>\n",
       "    <tr>\n",
       "      <th>2</th>\n",
       "      <td>743361</td>\n",
       "      <td>Perhaps he took the \"power out of the Cardinal...</td>\n",
       "      <td>0.2</td>\n",
       "    </tr>\n",
       "    <tr>\n",
       "      <th>3</th>\n",
       "      <td>551008</td>\n",
       "      <td>As always, yours is dripping with sarcasm, whi...</td>\n",
       "      <td>0.0</td>\n",
       "    </tr>\n",
       "    <tr>\n",
       "      <th>4</th>\n",
       "      <td>865998</td>\n",
       "      <td>The dirty little secret is that the price rang...</td>\n",
       "      <td>0.3</td>\n",
       "    </tr>\n",
       "  </tbody>\n",
       "</table>\n",
       "</div>"
      ],
      "text/plain": [
       "        id                                       comment_text  target\n",
       "0  6101457  What are you talking about? What group do Pete...     0.0\n",
       "1  5342103   NO!, Let him, we need a Conservative government.     0.0\n",
       "2   743361  Perhaps he took the \"power out of the Cardinal...     0.2\n",
       "3   551008  As always, yours is dripping with sarcasm, whi...     0.0\n",
       "4   865998  The dirty little secret is that the price rang...     0.3"
      ]
     },
     "execution_count": 3,
     "metadata": {},
     "output_type": "execute_result"
    }
   ],
   "source": [
    "# Carga de datos de archivos .csv\n",
    "df = pd.read_csv('https://raw.githubusercontent.com/albahnsen/MIAD_ML_and_NLP/main/datasets/Toxicity.zip')\n",
    "df = df[['id','comment_text', 'target']]\n",
    "df.head()"
   ]
  },
  {
   "cell_type": "code",
   "execution_count": 4,
   "metadata": {},
   "outputs": [
    {
     "data": {
      "text/plain": [
       "(541462, 3)"
      ]
     },
     "execution_count": 4,
     "metadata": {},
     "output_type": "execute_result"
    }
   ],
   "source": [
    "df.shape"
   ]
  },
  {
   "cell_type": "code",
   "execution_count": 5,
   "metadata": {},
   "outputs": [
    {
     "data": {
      "text/plain": [
       "<AxesSubplot:>"
      ]
     },
     "execution_count": 5,
     "metadata": {},
     "output_type": "execute_result"
    },
    {
     "data": {
      "image/png": "[encoded data removed]",
      "text/plain": [
       "<Figure size 432x288 with 1 Axes>"
      ]
     },
     "metadata": {
      "needs_background": "light"
     },
     "output_type": "display_data"
    }
   ],
   "source": [
    "# Impresión histograma de variable de interés (y)\n",
    "df.target.hist()"
   ]
  },
  {
   "cell_type": "code",
   "execution_count": 6,
   "metadata": {},
   "outputs": [
    {
     "data": {
      "text/plain": [
       "count    541462.000000\n",
       "mean          0.102991\n",
       "std           0.196979\n",
       "min           0.000000\n",
       "25%           0.000000\n",
       "50%           0.000000\n",
       "75%           0.166667\n",
       "max           1.000000\n",
       "Name: target, dtype: float64"
      ]
     },
     "execution_count": 6,
     "metadata": {},
     "output_type": "execute_result"
    }
   ],
   "source": [
    "# Separación de variable de interés (y)\n",
    "y = df.target\n",
    "y.describe()"
   ]
  },
  {
   "cell_type": "code",
   "execution_count": 7,
   "metadata": {},
   "outputs": [],
   "source": [
    "# Separación de variables predictoras (X), solo se considera el texto de la noticia\n",
    "X = df.comment_text"
   ]
  },
  {
   "cell_type": "code",
   "execution_count": 8,
   "metadata": {},
   "outputs": [],
   "source": [
    "# Separación de datos en set de entrenamiento y test\n",
    "X_train, X_test, y_train, y_test = train_test_split(X, y, test_size=0.33, random_state=42)"
   ]
  },
  {
   "cell_type": "markdown",
   "metadata": {},
   "source": [
    "## Punto 1 - Tokenización con CountVectorizer\n",
    "\n",
    "En la celda 1 creen y entrenen el modelo de regresión de su preferencia, para que prediga la probabilidad de que un comentario sea tóxico, usando los set de entrenamiento y test definidos anteriormente. Usen la función **CountVectorizer** para preprocesar los comentarios y presenten el desempeño del modelo con la métrica del MSE.\n",
    "\n",
    "Recuerden que el preprocesamiento que se haga sobre los datos de entrenamiento  (*.fit_transform()*) deben ser aplicado al set de test (*.transform()*)."
   ]
  },
  {
   "cell_type": "code",
   "execution_count": 11,
   "metadata": {},
   "outputs": [
    {
     "name": "stdout",
     "output_type": "stream",
     "text": [
      "MSE con Gradient Boosting y selección de características: 0.036610105898590886\n"
     ]
    }
   ],
   "source": [
    "# Celda 1\n",
    "#Teniendo presente que los modelos de NLP, exigen una capacidad de procesamiento alta del equipo y entendiendo que esto es una actividad academica se procede a realizar:\n",
    "#1.Crear una matriz donde se realiza un preprocesamiento a los comentarios: se ponen en minsuculas\n",
    "#2.Luego se aplica un Gradiente Boosting para entrenar el modelo que predicira si un comentario es toxico o no.\n",
    "#3. Luego se utiliza tecnicas de seleccion de caracteristicas derevidas del modelo GB\n",
    "#4. Se entrene el modelo con las features seleccionadas\n",
    "#5.Se evalua el rendimiento del modelo obtenido en el conjunto de prueba\n",
    "\n",
    "from sklearn.metrics import mean_squared_error\n",
    "from sklearn.linear_model import LogisticRegression\n",
    "from sklearn.ensemble import GradientBoostingRegressor\n",
    "from sklearn.feature_selection import SelectFromModel\n",
    "from sklearn.feature_extraction.text import CountVectorizer\n",
    "\n",
    "\n",
    "#Creación de la matriz de los comentarios usando CountVectorizer a partir de X, poniendo todo en minuscula y crenado n-grmas de longitud (1 a 2)\n",
    "vect = CountVectorizer(lowercase=True)\n",
    "\n",
    "# Convertiendo los datos de entrenamiento y prueba usando la matriz antes creada\n",
    "X_train_dtm  = vect.fit_transform(X_train)\n",
    "X_test_dtm = vect.transform(X_test)\n",
    "\n",
    "# Aplicando técnicas de selección de características para quedarse con las más relevantes\n",
    "logistic = LogisticRegression(penalty='l1', solver='liblinear', random_state=42)\n",
    "selector = SelectFromModel(estimator=logistic)\n",
    "\n",
    "# Entrenando el selector en los datos de entrenamiento transformados\n",
    "model_gb = GradientBoostingRegressor(n_estimators=100, learning_rate=0.1, max_depth=3, random_state=42)\n",
    "model_gb.fit(X_train_dtm, y_train)\n",
    "\n",
    "# Aplicando selección de características\n",
    "sfm = SelectFromModel(model_gb, threshold=0.1)  # Threshold puede ser ajustado según la importancia de las características\n",
    "X_dtm_selected = sfm.fit_transform(X_train_dtm, y_train)\n",
    "\n",
    "# Entrenando el modelo con las características seleccionadas\n",
    "model_gb_selected = GradientBoostingRegressor(n_estimators=100, learning_rate=0.1, max_depth=3, random_state=42)\n",
    "model_gb_selected.fit(X_dtm_selected, y_train)\n",
    "\n",
    "\n",
    "# Predicción de la probabilidad de toxicidad en el conjunto de prueba\n",
    "X_test_dtm_selected = sfm.transform(X_test_dtm)\n",
    "y_pred_gb_selected = model_gb_selected.predict(X_test_dtm_selected)\n",
    "\n",
    "# Calculando el MSE en el conjunto de prueba\n",
    "mse_gb_selected = mean_squared_error(y_test, y_pred_gb_selected)\n",
    "print(\"MSE con Gradient Boosting y selección de características:\", mse_gb_selected)"
   ]
  },
  {
   "cell_type": "markdown",
   "metadata": {},
   "source": [
    "## Punto 2 - Tokenización con CountVectorizer y trigramas\n",
    "\n",
    "En la celda 2 creen y entrenen el mismo modelo de regresión del punto anterior (es decir si usaron un RandomForestRegresor usen nuevamente ese regresor), para que prediga la probabilidad de que un comentario sea tóxico, usando los set de entrenamiento y test definidos anteriormente. Usen la función CountVectorizer **considerando trigramas** para preprocesar los comentarios y presenten el desempeño del modelo con la métrica del MSE.\n",
    "\n",
    "Recuerden que el preprocesamiento que se haga sobre los datos de entrenamiento  (*.fit_transform()*) deben ser aplicado al set de test (*.transform()*)."
   ]
  },
  {
   "cell_type": "code",
   "execution_count": 10,
   "metadata": {},
   "outputs": [
    {
     "name": "stdout",
     "output_type": "stream",
     "text": [
      "MSE con Gradient Boosting y CountVectorizer trigramas: 0.027025791285583994\n"
     ]
    }
   ],
   "source": [
    "from sklearn.ensemble import GradientBoostingRegressor\n",
    "from sklearn.feature_extraction.text import CountVectorizer\n",
    "from sklearn.metrics import mean_squared_error\n",
    "# Creando la matriz con countVectorizer y trigramas\n",
    "vect_trigrama = CountVectorizer(lowercase=True, ngram_range=(1, 3))\n",
    "\n",
    "# Convirtiendo los datos de entrenamiento y prueba\n",
    "X_train_dtm_trigrama = vect_trigrama.fit_transform(X_train)\n",
    "X_test_dtm_trigrama = vect_trigrama.transform(X_test)\n",
    "\n",
    "# Entrenado del modelo Gradient Boosting Regressor\n",
    "model_gb_trigrama = GradientBoostingRegressor(n_estimators=100, learning_rate=0.1, max_depth=3, random_state=42)\n",
    "model_gb_trigrama.fit(X_train_dtm_trigrama, y_train)\n",
    "\n",
    "# Se hace la predicción de la probabilidad de toxicidad en el conjunto de prueba\n",
    "y_pred_gb_trigrama = model_gb_trigrama.predict(X_test_dtm_trigrama)\n",
    "\n",
    "# Calculando el MSE en el conjunto de prueba\n",
    "mse_gb_trigrama = mean_squared_error(y_test, y_pred_gb_trigrama)\n",
    "print(\"MSE con Gradient Boosting y CountVectorizer trigramas:\", mse_gb_trigrama)\n",
    "\n"
   ]
  },
  {
   "cell_type": "markdown",
   "metadata": {},
   "source": [
    "## Punto 3 - TfidfVectorizer\n",
    "\n",
    "Investigen sobre la función TfidfVectorizer. En la celda de texto 3, expliquen en qué consiste esta técnica de tokenización (describanla y expliquen su funcionamiento) y cúales son las ventajas o deventajas de su uso al compararlo con la función CountVectorizer."
   ]
  },
  {
   "cell_type": "markdown",
   "metadata": {},
   "source": [
    "TfidfVectorizer pertenece a la biblioteca Scikit-learn, donde se describe que se usa para convertir una colección de documentos en bruto en una matríz de características TF-IDF.\n",
    "En primer lugar la técnica de tokenización TfidfVectorizer crea un vocabulario de tokens o listado de tokens únicos, luego mediante TF-IDF(Término Frecuencia- Frecuencia de documento inversa), se multiplica la frecuencia del término por la frecuencia inversa del documento obteniendose los pesos o relevancia de cada término en el documento.\n",
    "\n",
    "La frecuencia del termino (TF) se refiere a cuantas veces aparece el termino en el documento que se está evaluando respecto al total de términos en el mismo, mientras que la frecuencia de documento inversa (IDF) es una función logarítmica que relaciona el número de los documentos que contienen el token, con el total de documentos en el conjunto (corpus).\n",
    "\n",
    "En TfidfVectorizer las palabras menos frecuentes son más significativas para clasificar un documento que las que son de uso común en general. Los tokens (términos o palabras) infrecuentes en el corpus pero usados en el documento tienen un IDF mas alto para ese documento. Esto permite determinar los términos relevantes para clasificar ese documento específico, dando más peso a las palabras propias del documento, pero que no son tan comunes en el corpus, a estas palabras se les da mayor peso en la representación vectorial, lo que permite identificar el contenido distintivo de los documentos. Se debe tener cuidado, aplicando técnicas de filtrado previamente para reforzar el hecho de evitar que palabras comunes adquieran mas peso en esta técnica.\n",
    "\n",
    "Para implementar TfidfVectorizer , primero importamos la clase de la biblioteca skealearn.feature_extraction.text , luego procedemos a crear un objeto vectorizador de texto TfidfVectorizer(), A continuación ajustamos el vectorizador a nuestros datos de texto usando fit_transform, lo que transforma los datos en vectores de características. El resultado de TfidfVectorizer, es una matriz que contiene los pesos calculados con la técnica TF_IDF de cada termino en cada documento, esta matriz tiene como columnas el vocabulario  y como filas cada uno de los documentos o textos usados.\n",
    "\n",
    "Al comparar TfidfVectorizer con CountVectorizer, vemos que al incluir TF-IDF para determinar el “peso” de las palabras, esto ayuda a ser mas específico para la clasificación de los textos y con menos propensión a incluir palabras que realmente no sean tan relevantes a la hora de diferenciar documentos o textos.entonces encontramos desventajas de CountVectorizer frente a TfidfVectorizer como: su incapacidad para diferenciar realmente entre palabras mas o menos relevantes, esto va de la mano con que CountVectorizer considera las palabras con más significado estadístico simplemente aquellas que son mas abundantes en el texto sin importar si son palabras relevantes o no, para  diferenciar el documento."
   ]
  },
  {
   "cell_type": "markdown",
   "metadata": {},
   "source": [
    "## Punto 4 - Tokenización con TfidfVectorizer\n",
    "\n",
    "En la celda 4 creen y entrenen el mismo modelo de regresión del primer punto, para que prediga la probabilidad de que un comentario sea tóxico, usando los set de entrenamiento y test definidos anteriormente. Procesen los comentarios con la función **TfidfVectorizer** y presenten el desempeño del modelo con la métrica del MSE.\n",
    "\n",
    "Recuerden que el preprocesamiento que se haga sobre los datos de entrenamiento  (*.fit_transform()*) deben ser aplicado al set de test (*.transform()*)."
   ]
  },
  {
   "cell_type": "code",
   "execution_count": 12,
   "metadata": {},
   "outputs": [
    {
     "name": "stdout",
     "output_type": "stream",
     "text": [
      "MSE con Gradient Boosting y TfidfVectorizer: 0.026790762310544794\n"
     ]
    }
   ],
   "source": [
    "from sklearn.feature_extraction.text import TfidfVectorizer\n",
    "from sklearn.metrics import mean_squared_error\n",
    "from sklearn.ensemble import GradientBoostingRegressor\n",
    "\n",
    "# Crear una instancia de TfidfVectorizer\n",
    "tfidf_vect = TfidfVectorizer()\n",
    "\n",
    "# Convertir los datos de entrenamiento y prueba usando TfidfVectorizer\n",
    "X_train_tfidf = tfidf_vect.fit_transform(X_train)\n",
    "X_test_tfidf = tfidf_vect.transform(X_test)\n",
    "\n",
    "# Crear y entrenar el modelo de regresión Gradient Boosting\n",
    "model_gb_tfidf = GradientBoostingRegressor(n_estimators=100, learning_rate=0.1, max_depth=3, random_state=42)\n",
    "model_gb_tfidf.fit(X_train_tfidf, y_train)\n",
    "\n",
    "# Realizar predicciones en el conjunto de prueba\n",
    "y_pred_gb_tfidf = model_gb_tfidf.predict(X_test_tfidf)\n",
    "\n",
    "# Calcular el MSE en el conjunto de prueba\n",
    "mse_gb_tfidf = mean_squared_error(y_test, y_pred_gb_tfidf)\n",
    "print(\"MSE con Gradient Boosting y TfidfVectorizer:\", mse_gb_tfidf)\n",
    "\n"
   ]
  },
  {
   "cell_type": "markdown",
   "metadata": {},
   "source": [
    "## Punto 5 - Comparación y análisis de resultados\n",
    "\n",
    "En la celda 5 comparen los resultados obtenidos de los diferentes modelos y comenten cómo el preprocesamiento de texto afecta el desempeño."
   ]
  },
  {
   "cell_type": "code",
   "execution_count": 7,
   "metadata": {},
   "outputs": [
    {
     "data": {
      "image/png": "[encoded data removed]",
      "text/plain": [
       "<Figure size 720x432 with 1 Axes>"
      ]
     },
     "metadata": {
      "needs_background": "light"
     },
     "output_type": "display_data"
    }
   ],
   "source": [
    "# Comparando métricas de los modelos\n",
    "token_values = [0.036, 0.027, 0.026]\n",
    "model_names = ['CountVectorizer unigrama' , \"CountVectorizer trigramas\",\"TfidfVectorizer\"]\n",
    "\n",
    "# Ordenando métricas por R^2\n",
    "sorted_models_token = [model_names for _, model_names in sorted(zip(token_values, model_names), reverse=True)]\n",
    "sorted_token_values = sorted(token_values, reverse=True)\n",
    "\n",
    "# Creando el histograma del MAE\n",
    "plt.figure(figsize=(10, 6))\n",
    "plt.bar(sorted_models_token, sorted_token_values, color='blue')\n",
    "plt.title('Comparación de MSE de los modelos comparados')\n",
    "plt.xlabel('Modelo')\n",
    "plt.ylabel('MSE')\n",
    "plt.xticks(rotation=45)  \n",
    "plt.tight_layout()  \n",
    "plt.show()"
   ]
  },
  {
   "cell_type": "markdown",
   "metadata": {},
   "source": [
    "De acuerdo con los resultados comparados de cada técnica de tokenización y teniendo en cuenta que se usó el modelo de Gradient  boosting, es posible evidenciar que, de manera marginal, el TfidfVectorizer tiene un mejor desempeño en su indicador MSE, con un valor de 0.026. Esto puede deberse a que TfidfVectorizer no solo tiene en cuenta el conteo de palabras, sino que también el peso de importancia que tiene cada una para la identificar los comentarios en el corpus. \n",
    "\n",
    "Por otra parte, unigrama presenta el peor desempeño pues es una técnica básica que toma de manera aleatoria palabras del corpus y compara el grado de ocurrencia de cada palabra en el comentario. Este modelo no recibió preprocesamiento de ajuste, a diferencia de los otros modelos.\n",
    "\n",
    "El trigrama presente un desempeño mucho mejor que el unigrama, casi igual al TfidfVectorizer, dado que está considerando secuencias de 3 palabras consecutivas en lugar de manejarlas  de manera individual, lo que permite identificar relaciones lingüísticas. \n"
   ]
  }
 ],
 "metadata": {
  "kernelspec": {
   "display_name": "Python 3 (ipykernel)",
   "language": "python",
   "name": "python3"
  },
  "language_info": {
   "codemirror_mode": {
    "name": "ipython",
    "version": 3
   },
   "file_extension": ".py",
   "mimetype": "text/x-python",
   "name": "python",
   "nbconvert_exporter": "python",
   "pygments_lexer": "ipython3",
   "version": "3.9.7"
  },
  "name": "_merged"
 },
 "nbformat": 4,
 "nbformat_minor": 4
}
