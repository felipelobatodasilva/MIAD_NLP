{
 "cells": [
  {
   "cell_type": "markdown",
   "metadata": {},
   "source": [
    "![image info](https://raw.githubusercontent.com/albahnsen/MIAD_ML_and_NLP/main/images/banner_1.png)"
   ]
  },
  {
   "cell_type": "markdown",
   "metadata": {},
   "source": [
    "# Taller: Construcción e implementación de modelos Bagging, Random Forest y XGBoost\n",
    "\n",
    "En este taller podrán poner en práctica sus conocimientos sobre la construcción e implementación de modelos de Bagging, Random Forest y XGBoost. El taller está constituido por 8 puntos, en los cuales deberan seguir las intrucciones de cada numeral para su desarrollo."
   ]
  },
  {
   "cell_type": "markdown",
   "metadata": {},
   "source": [
    "## Datos predicción precio de automóviles\n",
    "\n",
    "En este taller se usará el conjunto de datos de Car Listings de Kaggle donde cada observación representa el precio de un automóvil teniendo en cuenta distintas variables como año, marca, modelo, entre otras. El objetivo es predecir el precio del automóvil. Para más detalles puede visitar el siguiente enlace: [datos](https://www.kaggle.com/jpayne/852k-used-car-listings)."
   ]
  },
  {
   "cell_type": "code",
   "execution_count": 1,
   "metadata": {},
   "outputs": [],
   "source": [
    "import warnings\n",
    "warnings.filterwarnings('ignore')"
   ]
  },
  {
   "cell_type": "code",
   "execution_count": 2,
   "metadata": {},
   "outputs": [
    {
     "data": {
      "text/html": [
       "<div>\n",
       "<style scoped>\n",
       "    .dataframe tbody tr th:only-of-type {\n",
       "        vertical-align: middle;\n",
       "    }\n",
       "\n",
       "    .dataframe tbody tr th {\n",
       "        vertical-align: top;\n",
       "    }\n",
       "\n",
       "    .dataframe thead th {\n",
       "        text-align: right;\n",
       "    }\n",
       "</style>\n",
       "<table border=\"1\" class=\"dataframe\">\n",
       "  <thead>\n",
       "    <tr style=\"text-align: right;\">\n",
       "      <th></th>\n",
       "      <th>Price</th>\n",
       "      <th>Year</th>\n",
       "      <th>Mileage</th>\n",
       "      <th>M_Camry</th>\n",
       "      <th>M_Camry4dr</th>\n",
       "      <th>M_CamryBase</th>\n",
       "      <th>M_CamryL</th>\n",
       "      <th>M_CamryLE</th>\n",
       "      <th>M_CamrySE</th>\n",
       "      <th>M_CamryXLE</th>\n",
       "    </tr>\n",
       "  </thead>\n",
       "  <tbody>\n",
       "    <tr>\n",
       "      <th>7</th>\n",
       "      <td>21995</td>\n",
       "      <td>2014</td>\n",
       "      <td>6480</td>\n",
       "      <td>0</td>\n",
       "      <td>0</td>\n",
       "      <td>0</td>\n",
       "      <td>1</td>\n",
       "      <td>0</td>\n",
       "      <td>0</td>\n",
       "      <td>0</td>\n",
       "    </tr>\n",
       "    <tr>\n",
       "      <th>11</th>\n",
       "      <td>13995</td>\n",
       "      <td>2014</td>\n",
       "      <td>39972</td>\n",
       "      <td>0</td>\n",
       "      <td>0</td>\n",
       "      <td>0</td>\n",
       "      <td>0</td>\n",
       "      <td>1</td>\n",
       "      <td>0</td>\n",
       "      <td>0</td>\n",
       "    </tr>\n",
       "    <tr>\n",
       "      <th>167</th>\n",
       "      <td>17941</td>\n",
       "      <td>2016</td>\n",
       "      <td>18989</td>\n",
       "      <td>0</td>\n",
       "      <td>0</td>\n",
       "      <td>0</td>\n",
       "      <td>0</td>\n",
       "      <td>0</td>\n",
       "      <td>1</td>\n",
       "      <td>0</td>\n",
       "    </tr>\n",
       "    <tr>\n",
       "      <th>225</th>\n",
       "      <td>12493</td>\n",
       "      <td>2014</td>\n",
       "      <td>51330</td>\n",
       "      <td>0</td>\n",
       "      <td>0</td>\n",
       "      <td>0</td>\n",
       "      <td>1</td>\n",
       "      <td>0</td>\n",
       "      <td>0</td>\n",
       "      <td>0</td>\n",
       "    </tr>\n",
       "    <tr>\n",
       "      <th>270</th>\n",
       "      <td>7994</td>\n",
       "      <td>2007</td>\n",
       "      <td>116065</td>\n",
       "      <td>0</td>\n",
       "      <td>1</td>\n",
       "      <td>0</td>\n",
       "      <td>0</td>\n",
       "      <td>0</td>\n",
       "      <td>0</td>\n",
       "      <td>0</td>\n",
       "    </tr>\n",
       "  </tbody>\n",
       "</table>\n",
       "</div>"
      ],
      "text/plain": [
       "     Price  Year  Mileage  M_Camry  M_Camry4dr  M_CamryBase  M_CamryL  \\\n",
       "7    21995  2014     6480        0           0            0         1   \n",
       "11   13995  2014    39972        0           0            0         0   \n",
       "167  17941  2016    18989        0           0            0         0   \n",
       "225  12493  2014    51330        0           0            0         1   \n",
       "270   7994  2007   116065        0           1            0         0   \n",
       "\n",
       "     M_CamryLE  M_CamrySE  M_CamryXLE  \n",
       "7            0          0           0  \n",
       "11           1          0           0  \n",
       "167          0          1           0  \n",
       "225          0          0           0  \n",
       "270          0          0           0  "
      ]
     },
     "execution_count": 2,
     "metadata": {},
     "output_type": "execute_result"
    }
   ],
   "source": [
    "# Importación de librerías\n",
    "%matplotlib inline\n",
    "import pandas as pd\n",
    "\n",
    "# Lectura de la información de archivo .csv\n",
    "data = pd.read_csv('https://raw.githubusercontent.com/albahnsen/MIAD_ML_and_NLP/main/datasets/dataTrain_carListings.zip')\n",
    "\n",
    "# Preprocesamiento de datos para el taller\n",
    "data = data.loc[data['Model'].str.contains('Camry')].drop(['Make', 'State'], axis=1)\n",
    "data = data.join(pd.get_dummies(data['Model'], prefix='M'))\n",
    "data = data.drop(['Model'], axis=1)\n",
    "\n",
    "# Visualización dataset\n",
    "data.head()"
   ]
  },
  {
   "cell_type": "code",
   "execution_count": 3,
   "metadata": {},
   "outputs": [],
   "source": [
    "# Separación de variables predictoras (X) y variable de interés (y)\n",
    "y = data['Price']\n",
    "X = data.drop(['Price'], axis=1)"
   ]
  },
  {
   "cell_type": "code",
   "execution_count": 4,
   "metadata": {},
   "outputs": [],
   "source": [
    "# Separación de datos en set de entrenamiento y test\n",
    "from sklearn.model_selection import train_test_split\n",
    "X_train, X_test, y_train, y_test = train_test_split(X, y, test_size=0.33, random_state=42)"
   ]
  },
  {
   "cell_type": "markdown",
   "metadata": {},
   "source": [
    "### Punto 1 - Árbol de decisión manual\n",
    "\n",
    "En la celda 1 creen un árbol de decisión **manualmente**  que considere los set de entrenamiento y test definidos anteriormente y presenten el RMSE y MAE del modelo en el set de test."
   ]
  },
  {
   "cell_type": "markdown",
   "metadata": {},
   "source": [
    "#### Seleccion de metrica de Evaluación\n",
    "Para evaluar el desempeño de modelos de regresión(dado que se va predecir el precio de un vehículo), hay varias métricas que serian adecuadas usar, como el RMSE,MAE,MAPE o R2. Teniendo presente que en el punto1 se piden el RMSE y El MAE. Se toma la decision de seleccionar para los demas puntos el MAE, ya que, el RMSE puede llegar a ser más sensible a los outliers que el MAPE, Adicionalmente el MAPE puede permitir una interpretación más directa en términos de error y su invarianza a la escala de la variable de respuesta.Tambien se toma la decision de usar el R2, con el objetivo de comprender cuánto de la variabilidad en el precio de los vehículos está siendo capturada por nuestro modelo. "
   ]
  },
  {
   "cell_type": "code",
   "execution_count": 5,
   "metadata": {},
   "outputs": [],
   "source": [
    "# Celda 1\n",
    "#Árbol de decisión manual\n",
    "import numpy as np\n",
    "\n",
    "# Clase para representar un nodo del árbol de decisión. Estructura de los nodos\n",
    "class Nodo:\n",
    "    def __init__(self, feature=None, split=None, value=None, left=None, right=None):\n",
    "        self.feature = feature  # Índice de la característica (variable) utilizada para la división\n",
    "        self.split = split      # Valor de corte para la división\n",
    "        self.value = value      # Valor predicho en este nodo (promedio de las etiquetas)\n",
    "        self.left = left        # Subárbol izquierdo\n",
    "        self.right = right      # Subárbol derecho\n",
    "\n",
    "# Función para calcular el error absoluto medio (MAE)\n",
    "def calcular_mae(y):\n",
    "    return np.mean(np.abs(y - np.mean(y)))\n",
    "\n",
    "# Función para encontrar la mejor división para un conjunto de datos\n",
    "def tree_best_split(X, y):\n",
    "    best_mae = float('inf')\n",
    "    best_feature = None\n",
    "    best_split = None\n",
    "    \n",
    "    for feature in range(X.shape[1]):  # Iterar sobre todas las características\n",
    "        feature_values = X[:, feature]\n",
    "        unique_values = np.unique(feature_values)\n",
    "        \n",
    "        for split in unique_values[:-1]:  # Iterar sobre todos los valores únicos excepto el último\n",
    "            left_indices = np.where(feature_values <= split)[0]\n",
    "            right_indices = np.where(feature_values > split)[0]\n",
    "            \n",
    "            left_mae = calcular_mae(y[left_indices])\n",
    "            right_mae = calcular_mae(y[right_indices])\n",
    "            mae = len(left_indices) * left_mae + len(right_indices) * right_mae\n",
    "            \n",
    "            if mae < best_mae:  # Si encontramos una división mejor\n",
    "                best_mae = mae\n",
    "                best_feature = feature\n",
    "                best_split = split\n",
    "    \n",
    "    return best_feature, best_split\n",
    "\n",
    "# Función para construir el árbol de decisión de manera recursiva\n",
    "def tree_grow(X, y, depth=0, max_depth=5, min_samples_leaf=1):\n",
    "    if depth >= max_depth or len(X) < min_samples_leaf:  #criterios de parada\n",
    "        return Nodo(value=np.mean(y))\n",
    "    \n",
    "    best_feature, best_split = tree_best_split(X, y) #mejor división\n",
    "    if best_feature is None:\n",
    "        return Nodo(value=np.mean(y))\n",
    "    #división segun mejor caracteristica y valor de corte previamente determinado\n",
    "    left_indices = np.where(X[:, best_feature] <= best_split)[0]   \n",
    "    right_indices = np.where(X[:, best_feature] > best_split)[0]\n",
    "    #construccion de los subárboles usando la función\n",
    "    left_subtree = tree_grow(X[left_indices], y[left_indices], depth + 1, max_depth, min_samples_leaf)\n",
    "    right_subtree = tree_grow(X[right_indices], y[right_indices], depth + 1, max_depth, min_samples_leaf)\n",
    "    \n",
    "    return Nodo(feature=best_feature, split=best_split, left=left_subtree, right=right_subtree) #retorna el nodo\n",
    "\n",
    "# Función para hacer predicciones con el árbol de decisión\n",
    "def tree_predict(tree, X):\n",
    "    if tree.value is not None:\n",
    "        return np.full(len(X), tree.value)\n",
    "    \n",
    "    predictions = np.empty(len(X))\n",
    "    for i, sample in enumerate(X):\n",
    "        nodo = tree\n",
    "        while nodo.value is None:\n",
    "            if sample[nodo.feature] <= nodo.split:\n",
    "                nodo = nodo.left\n",
    "            else:\n",
    "                nodo = nodo.right\n",
    "        predictions[i] = nodo.value\n",
    "    return predictions\n",
    "\n",
    "# Funciones para calcular el RMSE y MAE\n",
    "def calculo_RMSE(y_true, y_pred):\n",
    "    return np.sqrt(np.mean((y_true - y_pred) ** 2))\n",
    "\n",
    "def calculo_MAE(y_true, y_pred):\n",
    "    return np.mean(np.abs(y_true - y_pred))\n"
   ]
  },
  {
   "cell_type": "code",
   "execution_count": 6,
   "metadata": {},
   "outputs": [
    {
     "name": "stdout",
     "output_type": "stream",
     "text": [
      "RMSE_arbol_manual: 1701.1927843334606\n",
      "MAE_arbol_manual: 1269.0629517943853\n"
     ]
    }
   ],
   "source": [
    "#Implementación del árbol manual en los datos del problema\n",
    "# Convertir los datos de entrenamiento y prueba de Pandas DataFrame/Series a matrices NumPy\n",
    "X_train_np = X_train.values\n",
    "y_train_np = y_train.values\n",
    "X_test_np = X_test.values\n",
    "y_test_np = y_test.values\n",
    "\n",
    "# 1: Entrenamiento del árbol de decisión con tree_grow\n",
    "arbol = tree_grow(X_train_np, y_train_np, max_depth=5, min_samples_leaf=1)\n",
    "\n",
    "# 2: Predicción en el conjunto de prueba con tree_predict\n",
    "predicciones_test = tree_predict(arbol, X_test_np)\n",
    "\n",
    "# 3: Evaluación del modelo\n",
    "RMSE_arbol_manual = calculo_RMSE(y_test_np, predicciones_test)\n",
    "MAE_arbol_manual = calculo_MAE(y_test_np, predicciones_test)\n",
    "\n",
    "print(\"RMSE_arbol_manual:\", RMSE_arbol_manual)\n",
    "print(\"MAE_arbol_manual:\", MAE_arbol_manual)"
   ]
  },
  {
   "cell_type": "code",
   "execution_count": 7,
   "metadata": {},
   "outputs": [
    {
     "name": "stdout",
     "output_type": "stream",
     "text": [
      "count    10495.000000\n",
      "mean     14538.403716\n",
      "std       3922.420961\n",
      "min       5002.000000\n",
      "25%      11999.000000\n",
      "50%      15000.000000\n",
      "75%      16999.000000\n",
      "max      32444.000000\n",
      "Name: Price, dtype: float64\n"
     ]
    },
    {
     "data": {
      "image/png": "[encoded data removed]",
      "text/plain": [
       "<Figure size 432x288 with 1 Axes>"
      ]
     },
     "metadata": {
      "needs_background": "light"
     },
     "output_type": "display_data"
    }
   ],
   "source": [
    "#Estadísticas descriptivas y boxplot de variable objetivo para conclusiones\n",
    "print(data['Price'].describe())\n",
    "import matplotlib.pyplot as plt\n",
    "import seaborn as sns\n",
    "\n",
    "sns.boxplot(x=data['Price'])\n",
    "plt.show()"
   ]
  },
  {
   "cell_type": "markdown",
   "metadata": {},
   "source": [
    "En primer lugar se definen las funciones a utilizar para la aplicación del árbol: las características de los nodos, el cálculo del MAE de apoyo para la mejor división,la mejor división, crecimiento recursivo del árbol,una función para calcular las predicciones y finalmente las funciones de cálculo del RMSE y el MAE para evaluar el modelo en el set de test.\n",
    "### Los resultados:\n",
    "la evaluacion del modelo con RMSE, indica que en promedio las predicciones del modelo se desvían 1701.19 del valor real del precio del auto.La evaluación del MAE, indica que en promedio las predicciones se desvian 1269.06. La metrica MAE es mas confiable en presencia de datos atípicos, como es el caso de la variable precio. No obstante, ambas métricas pueden indicar un buen desempeño del modelo, ya que los valores de desviacion son relativamente bajos al comparar con los datos de los precios de los automóviles, por medio de las estadísticas descriptivas como la media, la mediana o el percentil 75. El resultado de la métrica MAE se comparará más adelante con los de los otros modelos en el punto 8."
   ]
  },
  {
   "cell_type": "markdown",
   "metadata": {},
   "source": [
    "### Punto 2 - Bagging manual\n",
    "\n",
    "En la celda 2 creen un modelo bagging **manualmente** con 10 árboles de regresión y comenten sobre el desempeño del modelo."
   ]
  },
  {
   "cell_type": "code",
   "execution_count": 8,
   "metadata": {},
   "outputs": [
    {
     "name": "stdout",
     "output_type": "stream",
     "text": [
      "Error Absoluto Medio: 1339.5750400032994\n",
      "Coeficiente de determinación (R²): 0.7920224973764591\n"
     ]
    }
   ],
   "source": [
    "# Celda 2\n",
    "import numpy as np\n",
    "import matplotlib.pyplot as plt\n",
    "from math import sqrt\n",
    "from sklearn.tree import DecisionTreeRegressor\n",
    "from sklearn.metrics import mean_absolute_error, r2_score\n",
    "\n",
    "# Inicializa una lista para almacenar los arboles individuales\n",
    "arboles = []\n",
    "n_arboles = 10\n",
    "n_muestras = X_train.shape[0]\n",
    "\n",
    "# Crea 10 arboles de regresion\n",
    "for i in range(n_arboles):\n",
    "    # Muestra con reemplazo de X_train e y_train\n",
    "    indices = np.random.choice(range(n_muestras), size=n_muestras, replace=True)\n",
    "    X_train_muestrado = X_train.iloc[indices]\n",
    "    y_train_muestrado = y_train.iloc[indices]\n",
    "    \n",
    "    # Ajusta el arbol de regresion\n",
    "    arbol = DecisionTreeRegressor()\n",
    "    arbol.fit(X_train_muestrado, y_train_muestrado)\n",
    "    \n",
    "    # Almacena el arbol en la lista\n",
    "    arboles.append(arbol)\n",
    "\n",
    "# Función de predicción para el ensemble de bagging\n",
    "def predecir_bagging(X):\n",
    "    # Realiza predicciones con todos los arboles\n",
    "    predicciones = np.array([arbol.predict(X) for arbol in arboles])\n",
    "    \n",
    "    # Promedia las predicciones para obtener la predicción final para cada muestra\n",
    "    return np.mean(predicciones, axis=0)\n",
    "\n",
    "# Evaluar el desempeño del modelo\n",
    "y_pred = predecir_bagging(X_test)\n",
    "\n",
    "# Calculo del Error Absoluto Medio (MAE)\n",
    "mae_bagging_manual = mean_absolute_error(y_test, y_pred)\n",
    "print(f'Error Absoluto Medio: {mae_bagging_manual}')\n",
    "\n",
    "# Cálculo del coeficiente de determinación (R²)\n",
    "r2_bagging_manual = r2_score(y_test, y_pred)\n",
    "print(f'Coeficiente de determinación (R²): {r2_bagging_manual}')"
   ]
  },
  {
   "cell_type": "markdown",
   "metadata": {},
   "source": [
    "### Análisis Descriptivo para la Validación del Desempeño del Modelo"
   ]
  },
  {
   "cell_type": "code",
   "execution_count": 9,
   "metadata": {},
   "outputs": [
    {
     "name": "stdout",
     "output_type": "stream",
     "text": [
      "count     7031.000000\n",
      "mean     14508.073389\n",
      "std       3927.667432\n",
      "min       5002.000000\n",
      "25%      11998.000000\n",
      "50%      15000.000000\n",
      "75%      16996.000000\n",
      "max      32444.000000\n",
      "Name: Price, dtype: float64\n"
     ]
    },
    {
     "data": {
      "image/png": "[encoded data removed]",
      "text/plain": [
       "<Figure size 432x288 with 1 Axes>"
      ]
     },
     "metadata": {
      "needs_background": "light"
     },
     "output_type": "display_data"
    },
    {
     "data": {
      "image/png": "[encoded data removed]",
      "text/plain": [
       "<Figure size 432x288 with 1 Axes>"
      ]
     },
     "metadata": {
      "needs_background": "light"
     },
     "output_type": "display_data"
    }
   ],
   "source": [
    "import matplotlib.pyplot as plt\n",
    "\n",
    "# Estadísticas descriptivas de los precios de los carros\n",
    "precios_descripcion = y_train.describe()\n",
    "print(precios_descripcion)\n",
    "\n",
    "# Crear un histograma para visualizar la distribución de los precios de los carros\n",
    "plt.hist(y_train, bins=50, edgecolor='black')\n",
    "plt.title('Distribución de los Precios de los Carros')\n",
    "plt.xlabel('Precio') \n",
    "plt.ylabel('Número de Carros')\n",
    "plt.show()\n",
    "\n",
    "# Crear un boxplot para visualizar la distribución de los precios de los carros\n",
    "plt.boxplot(y_train)\n",
    "plt.title('Boxplot de los Precios de los Carros')  \n",
    "plt.ylabel('Precio')  \n",
    "plt.show()  "
   ]
  },
  {
   "cell_type": "code",
   "execution_count": 10,
   "metadata": {},
   "outputs": [
    {
     "data": {
      "text/plain": [
       "9.196398969676876"
      ]
     },
     "execution_count": 10,
     "metadata": {},
     "output_type": "execute_result"
    }
   ],
   "source": [
    "#  Calculo del porcentaje del MAE con respecto al precio promedio de los autos\n",
    "MAE = 1334.22\n",
    "media_precos = 14508.07\n",
    "\n",
    "# Porcentaje del MAE con respecto a la media\n",
    "porcentagem_MAE = (MAE / media_precos) * 100\n",
    "porcentagem_MAE"
   ]
  },
  {
   "cell_type": "markdown",
   "metadata": {},
   "source": [
    "#### Desempeño del Modelo"
   ]
  },
  {
   "cell_type": "markdown",
   "metadata": {},
   "source": [
    "El modelo de bagging se utiliza de 10 árboles de regresión. El proceso consiste en generar subconjuntos del conjunto de entrenamiento a través de muestreo con reemplazo y entrenar un árbol de regresión independiente en cada uno de estos subconjuntos. Las predicciones del modelo de bagging se obtienen luego por la media de las predicciones de todos los árboles individuales, lo que ayuda a reducir la varianza y mejorar la robustez del modelo en comparación con un único árbol de decisión.\n",
    "\n",
    "En cuanto al rendimiento, el Error Absoluto Medio (MAE) del modelo es de 1334,22, representando aproximadamente el 9,2% del precio medio de los coches, que es de 14508,07. Este valor del MAE indica que el modelo tiene una precisión razonable en la mayoría de los casos. Además, el coeficiente de determinación R² es de 0,789, lo que significa que aproximadamente el 78,9% de la variabilidad en los precios de los coches es explicada por el modelo. Este valor de R² indica que el modelo tiene una buena capacidad predictiva.\n",
    "\n",
    "En resumen, el modelo de bagging manual muestra un rendimiento adecuado según el MAE y el R², sugiriendo que las predicciones promedio están relativamente cercanas a los valores reales y que el modelo explica una buena parte de la variabilidad en los datos. Estos indicadores sugieren que el modelo de bagging es una opción viable para la regresión en este contexto."
   ]
  },
  {
   "cell_type": "markdown",
   "metadata": {},
   "source": [
    "### Punto 3 - Bagging con librería\n",
    "\n",
    "En la celda 3, con la librería sklearn, entrenen un modelo bagging con 10 árboles de regresión y el parámetro `max_features` igual a `log(n_features)` y comenten sobre el desempeño del modelo."
   ]
  },
  {
   "cell_type": "code",
   "execution_count": 11,
   "metadata": {},
   "outputs": [
    {
     "name": "stdout",
     "output_type": "stream",
     "text": [
      "Error Absoluto Medio (MAE): 1551.5024909228398\n",
      "Coeficiente de determinación (R²): 0.7364858447908116\n"
     ]
    }
   ],
   "source": [
    "import numpy as np\n",
    "from sklearn.ensemble import BaggingRegressor\n",
    "from sklearn.metrics import mean_squared_error, mean_absolute_error, r2_score\n",
    "\n",
    "# Calcular el número de características para el parámetro max_features\n",
    "n_features = X_train.shape[1]\n",
    "max_features = int(np.log2(n_features))\n",
    "\n",
    "# Crear el modelo de bagging con 10 árboles de decisión\n",
    "bagging_model = BaggingRegressor(\n",
    "    n_estimators=10,\n",
    "    max_features=max_features,  # Especificar max_features como el logaritmo en base 2 del número de características\n",
    "    bootstrap=True,\n",
    "    oob_score=True,\n",
    "    random_state=0\n",
    ")\n",
    "\n",
    "# Entrenar el modelo con los datos de entrenamiento\n",
    "bagging_model.fit(X_train, y_train)\n",
    "\n",
    "# Evaluar el modelo con los datos de prueba\n",
    "y_pred = bagging_model.predict(X_test)\n",
    "\n",
    "# Calcular métricas de desempeño\n",
    "mae_bagging_lib = mean_absolute_error(y_test, y_pred)\n",
    "# Cálculo del coeficiente de determinación (R²)\n",
    "r2_bagging_lib = r2_score(y_test, y_pred)\n",
    "\n",
    "print(f'Error Absoluto Medio (MAE): {mae_bagging_lib}')\n",
    "print(f'Coeficiente de determinación (R²): {r2_bagging_lib}')"
   ]
  },
  {
   "cell_type": "markdown",
   "metadata": {},
   "source": [
    "#### Desempeño del Modelo"
   ]
  },
  {
   "cell_type": "markdown",
   "metadata": {},
   "source": [
    "La métrica de Error Absoluto Medio (MAE) del modelo es de 1551.50, lo que implica que, aunque existe una desviación media en las predicciones, estas mantienen una precisión aceptable. Dado el amplio rango de precios en el mercado de automóviles, un MAE de esta magnitud puede ser interpretado como una señal de que el modelo es práctico y puede servir como una herramienta confiable.\n",
    "\n",
    "Además el modelo alcanza un R² de 0.7365, lo que sugiere que captura con éxito una gran parte de la variabilidad de los datos."
   ]
  },
  {
   "cell_type": "markdown",
   "metadata": {},
   "source": [
    "### Punto 4 - Random forest con librería\n",
    "\n",
    "En la celda 4, usando la librería sklearn entrenen un modelo de Randon Forest para regresión  y comenten sobre el desempeño del modelo."
   ]
  },
  {
   "cell_type": "code",
   "execution_count": 34,
   "metadata": {},
   "outputs": [
    {
     "name": "stdout",
     "output_type": "stream",
     "text": [
      "Error Absoluto Medio (MAE) en el conjunto de prueba: 1312.7086809549508\n",
      "Coeficiente de Determinación (R^2) en el conjunto de prueba: 0.7964015917816529\n"
     ]
    }
   ],
   "source": [
    "from sklearn.ensemble import RandomForestRegressor\n",
    "\n",
    "# Inicializando el modelo de Random Forest\n",
    "modelo_rf = RandomForestRegressor()\n",
    "\n",
    "# Entrenando el modelo\n",
    "modelo_rf.fit(X_train, y_train)\n",
    "\n",
    "# Predeciendo los precios en el conjunto de prueba\n",
    "y_modelo_rf = modelo_rf.predict(X_test)\n",
    "\n",
    "# Calculando el MAE en el conjunto de prueba\n",
    "mae_rf = mean_absolute_error(y_test, y_modelo_rf)\n",
    "print(\"Error Absoluto Medio (MAE) en el conjunto de prueba:\", mae_rf)\n",
    "\n",
    "# Calculando el Coeficiente de Determinación en el conjunto de prueba\n",
    "r2_rf = r2_score(y_test, y_modelo_rf)\n",
    "print(\"Coeficiente de Determinación (R^2) en el conjunto de prueba:\", r2_rf)\n"
   ]
  },
  {
   "cell_type": "markdown",
   "metadata": {},
   "source": [
    "##### Analisis del punto 4\n",
    "\n",
    "El MAE del modelo de Random Forest es aproximadamente 1313.35. Esto significa que, en promedio, las predicciones del modelo están a $1313.35 de distancia del precio real de los vehículos en el conjunto de prueba.\n",
    "\n",
    "El coeficiente de determinación del modelo de Random Forest es aproximadamente 0.7967. Esto indica que alrededor del 79.67% de la variabilidad en los precios de los vehículos se puede explicar utilizando las características proporcionadas al modelo."
   ]
  },
  {
   "cell_type": "markdown",
   "metadata": {},
   "source": [
    "### Punto 5 - Calibración de parámetros Random forest\n",
    "\n",
    "En la celda 5, calibren los parámetros max_depth, max_features y n_estimators del modelo de Randon Forest para regresión, comenten sobre el desempeño del modelo y describan cómo cada parámetro afecta el desempeño del modelo."
   ]
  },
  {
   "cell_type": "code",
   "execution_count": 35,
   "metadata": {},
   "outputs": [
    {
     "name": "stdout",
     "output_type": "stream",
     "text": [
      "Mejores parámetros: {'max_depth': 10, 'max_features': 'sqrt', 'n_estimators': 300}\n"
     ]
    }
   ],
   "source": [
    "from sklearn.model_selection import GridSearchCV\n",
    "\n",
    "# Definir el modelo base\n",
    "modelo_rf_base = RandomForestRegressor()\n",
    "# Definir la cuadrícula de parámetros a explorar\n",
    "param_grid_rf = {\n",
    "    'max_depth': [None, 10, 20, 30],\n",
    "    'max_features': ['auto', 'sqrt'],\n",
    "    'n_estimators': [50, 100, 200, 300]}\n",
    "\n",
    "# Inicializar GridSearchCV\n",
    "grid_search_rf = GridSearchCV(estimator=modelo_rf_base, param_grid=param_grid_rf, cv=5, scoring='neg_mean_squared_error')\n",
    "# Ejecutar la búsqueda en cuadrícula en los datos de entrenamiento\n",
    "grid_search_rf.fit(X_train, y_train)\n",
    "# Obtener los mejores parámetros encontrados\n",
    "print(\"Mejores parámetros:\", grid_search_rf.best_params_)\n"
   ]
  },
  {
   "cell_type": "code",
   "execution_count": 36,
   "metadata": {},
   "outputs": [
    {
     "name": "stdout",
     "output_type": "stream",
     "text": [
      "Error Absoluto Medio (MAE) en el conjunto de prueba: 1147.023368691615\n",
      "Coeficiente de Determinación (R^2) en el conjunto de prueba: 0.8400536406447436\n"
     ]
    }
   ],
   "source": [
    "# Obtener el mejor estimador (modelo)\n",
    "modelo_optimo_rf = grid_search_rf.best_estimator_\n",
    "# Realizar predicciones en el conjunto de prueba con el modelo optimizado\n",
    "y_modelo_rf_optimo = modelo_optimo_rf.predict(X_test)\n",
    "\n",
    "# Calculando el MAE en el conjunto de prueba\n",
    "mae_rf_optimo = mean_absolute_error(y_test, y_modelo_rf_optimo)\n",
    "print(\"Error Absoluto Medio (MAE) en el conjunto de prueba:\", mae_rf_optimo)\n",
    "\n",
    "# Calculando el Coeficiente de Determinación en el conjunto de prueba\n",
    "r2_rf_optimo = r2_score(y_test, y_modelo_rf_optimo)\n",
    "print(\"Coeficiente de Determinación (R^2) en el conjunto de prueba:\", r2_rf_optimo)\n"
   ]
  },
  {
   "cell_type": "markdown",
   "metadata": {},
   "source": [
    "##### Análisis del modelo de Random Forest calibrado\n",
    "Algunas conclusiones del desempeño del modelo calibrado son:\n",
    "\n",
    "* El MAE del modelo calibrado (1145.44) es menor que el MAE del modelo original (1313.35). Esto indica que, en promedio, las predicciones del modelo calibrado están más cerca de los valores reales que las del modelo original. Por lo tanto, el modelo calibrado tiene un mejor desempeño en términos de precisión de las predicciones.\n",
    "\n",
    "* El R^2 del modelo calibrado (0.8402) es mayor que el R^2 del modelo original (0.7967). Esto indica que el modelo calibrado explica una mayor proporción de la variabilidad en los precios de los vehículos que el modelo original.\n",
    "\n",
    "**¿Cómo cada parámetro afecta el desempeño del modelo?**\n",
    "\n",
    "* max_depth (profundidad máxima): Este parámetro controla la profundidad máxima de cada árbol en el bosque. Un valor más alto puede permitir que los árboles sean más profundos y capturan más complejidad en los datos, pero también pueden aumentar el riesgo de sobreajuste. En este caso, el valor óptimo encontrado fue de 10, lo que sugiere que una profundidad moderada fue preferida para este conjunto de datos.\n",
    "\n",
    "* max_features (máximo de características): Este parámetro controla el número máximo de características que se consideran para dividir un nodo en cada árbol. Utilizar un subconjunto de características puede ayudar a reducir la correlación entre árboles y el sobreajuste. En este caso, el valor óptimo encontrado fue 'sqrt', lo que indica que se utilizó la raíz cuadrada del número total de características como máximo de características.\n",
    "\n",
    "* n_estimators (número de estimadores): Este parámetro representa el número de árboles en el bosque. Un mayor número de árboles generalmente conduce a un modelo más robusto y estable, pero también puede aumentar el tiempo de entrenamiento. En este caso, el valor óptimo encontrado fue de 300, lo que sugiere que se prefirió un número relativamente alto de árboles para este conjunto de datos."
   ]
  },
  {
   "cell_type": "markdown",
   "metadata": {},
   "source": [
    "### Punto 6 - XGBoost con librería\n",
    "\n",
    "En la celda 6 implementen un modelo XGBoost de regresión con la librería sklearn y comenten sobre el desempeño del modelo."
   ]
  },
  {
   "cell_type": "code",
   "execution_count": 15,
   "metadata": {},
   "outputs": [
    {
     "name": "stdout",
     "output_type": "stream",
     "text": [
      "Collecting xgboost\n",
      "  Downloading xgboost-2.0.3-py3-none-win_amd64.whl (99.8 MB)\n",
      "Requirement already satisfied: scipy in c:\\users\\user\\appdata\\roaming\\python\\python39\\site-packages (from xgboost) (1.11.4)\n",
      "Requirement already satisfied: numpy in c:\\users\\user\\appdata\\roaming\\python\\python39\\site-packages (from xgboost) (1.26.4)\n",
      "Installing collected packages: xgboost\n",
      "Successfully installed xgboost-2.0.3\n"
     ]
    },
    {
     "name": "stderr",
     "output_type": "stream",
     "text": [
      "WARNING: Ignoring invalid distribution -umpy (d:\\prog\\lib\\site-packages)\n",
      "WARNING: Ignoring invalid distribution -umpy (d:\\prog\\lib\\site-packages)\n",
      "WARNING: Ignoring invalid distribution -umpy (d:\\prog\\lib\\site-packages)\n",
      "WARNING: Ignoring invalid distribution -umpy (d:\\prog\\lib\\site-packages)\n",
      "WARNING: Ignoring invalid distribution -umpy (d:\\prog\\lib\\site-packages)\n",
      "WARNING: Ignoring invalid distribution -umpy (d:\\prog\\lib\\site-packages)\n",
      "WARNING: Ignoring invalid distribution -umpy (d:\\prog\\lib\\site-packages)\n"
     ]
    },
    {
     "name": "stdout",
     "output_type": "stream",
     "text": [
      "Error Absoluto Medio (MAE) en el conjunto de prueba: 1185.2272991506386\n",
      "Coeficiente de Determinación (R^2) en el conjunto de prueba: 0.8315404997841507\n"
     ]
    }
   ],
   "source": [
    "# Celda 6\n",
    "# Importación y definición de modelo XGBoost, es regressor porque es un modelo de prediccion de precioxm2\n",
    "!pip install xgboost\n",
    "from xgboost import XGBRegressor\n",
    "from sklearn.model_selection import train_test_split\n",
    "from sklearn.metrics import mean_absolute_error, r2_score\n",
    "\n",
    "# Inicializando el modelo XGBoost\n",
    "modelo_xgboost = XGBRegressor()\n",
    "\n",
    "# Entrenando el modelo\n",
    "modelo_xgboost.fit(X_train, y_train)\n",
    "\n",
    "# Predeciendo los precios en el conjunto de prueba\n",
    "y_modelo_xgboost = modelo_xgboost.predict(X_test)\n",
    "\n",
    "# Calculando el MAE en el conjunto de prueba\n",
    "mae_xgboost = mean_absolute_error(y_test, y_modelo_xgboost)\n",
    "print(\"Error Absoluto Medio (MAE) en el conjunto de prueba:\", mae_xgboost)\n",
    "\n",
    "# Calculando el Coeficiente de Determinación en el conjunto de prueba\n",
    "r2_xgboost = r2_score(y_test, y_modelo_xgboost)\n",
    "print(\"Coeficiente de Determinación (R^2) en el conjunto de prueba:\", r2_xgboost)"
   ]
  },
  {
   "cell_type": "markdown",
   "metadata": {},
   "source": [
    "#### Analisis del punto6\n",
    "\n",
    "Algunos conclusiones del desempeño del modelo, son:\n",
    "* El MAE es aproximadamente 1185.23, esto significa que, en promedio, las predicciones del modelo XGBoost están a $1185.23 de distancia del precio real de los vehículos en el conjunto de prueba.\n",
    "* El R2 es aproximandamente 0.8315, esto significa que alrededor del 83.15% de la variabilidad en los precios de los vehículos se puede explicar utilizando las características proporcionadas al modelo XGBoost.\n",
    "\n",
    "Dado que el MAE es relativamente bajo y el R2 es relativamente alto, podemos decir que el modelo XGBoost tiene un buen desempeño en este caso."
   ]
  },
  {
   "cell_type": "markdown",
   "metadata": {},
   "source": [
    "### Punto 7 - Calibración de parámetros XGBoost\n",
    "\n",
    "En la celda 7 calibren los parámetros learning rate, gamma y colsample_bytree del modelo XGBoost para regresión, comenten sobre el desempeño del modelo y describan cómo cada parámetro afecta el desempeño del modelo."
   ]
  },
  {
   "cell_type": "code",
   "execution_count": 16,
   "metadata": {},
   "outputs": [
    {
     "name": "stdout",
     "output_type": "stream",
     "text": [
      "Mejores parámetros: {'colsample_bytree': 0.7, 'gamma': 0.1, 'learning_rate': 0.05}\n"
     ]
    }
   ],
   "source": [
    "# Celda 7\n",
    "from xgboost import XGBRegressor\n",
    "from sklearn.model_selection import GridSearchCV\n",
    "\n",
    "# Definir el modelo base\n",
    "modelo_base = XGBRegressor()\n",
    "# Definir la cuadrícula de parámetros a explorar\n",
    "param_grid = {\n",
    "    'learning_rate': [0.01, 0.05, 0.1, 0.2],\n",
    "    'gamma': [0.1, 0.2, 0.3, 0.4],\n",
    "    'colsample_bytree': [0.5, 0.7, 0.9, 1.0]}\n",
    "\n",
    "# Inicializar GridSearchCV\n",
    "grid_search = GridSearchCV(estimator=modelo_base, param_grid=param_grid, cv=5, scoring='neg_mean_squared_error')\n",
    "# Ejecutar la búsqueda en cuadrícula en los datos de entrenamiento\n",
    "grid_search.fit(X_train, y_train)\n",
    "# Obtener los mejores parámetros encontrados\n",
    "print(\"Mejores parámetros:\", grid_search.best_params_)"
   ]
  },
  {
   "cell_type": "code",
   "execution_count": 33,
   "metadata": {},
   "outputs": [
    {
     "name": "stdout",
     "output_type": "stream",
     "text": [
      "Error Absoluto Medio (MAE) en el conjunto de prueba: 1134.6437124203865\n",
      "Coeficiente de Determinación (R^2) en el conjunto de prueba: 0.8439447142295721\n"
     ]
    }
   ],
   "source": [
    "# Obtener el mejor estimador (modelo)\n",
    "modelo_optimo_xgboost = grid_search.best_estimator_\n",
    "# Realizar predicciones en el conjunto de prueba con el modelo optimizado\n",
    "y_modelo_xgboost2 = modelo_optimo_xgboost.predict(X_test)\n",
    "\n",
    "# Calculando el MAE en el conjunto de prueba\n",
    "mae_xgboost2 = mean_absolute_error(y_test, y_modelo_xgboost2)\n",
    "print(\"Error Absoluto Medio (MAE) en el conjunto de prueba:\", mae_xgboost2)\n",
    "\n",
    "# Calculando el Coeficiente de Determinación en el conjunto de prueba\n",
    "r2_xgboost2 = r2_score(y_test, y_modelo_xgboost2)\n",
    "print(\"Coeficiente de Determinación (R^2) en el conjunto de prueba:\", r2_xgboost2)"
   ]
  },
  {
   "cell_type": "markdown",
   "metadata": {},
   "source": [
    "#### Analisis del punto7\n",
    "\n",
    "Algunos conclusiones del desempeño del modelo, son:\n",
    "* El MAE del modelo calibrado (1134.64) es menor que el MAE del modelo original (1185.23),esto significa que, en promedio, las predicciones del modelo calibrado están más cerca de los valores reales que las del modelo original.\n",
    "Por lo tanto, el modelo calibrado tiene un mejor desempeño en términos de precisión de las predicciones.\n",
    "* El R2 del modelo calibrado (0.8439) es mayor que el R2 del modelo original (0.8315),esto indica que el modelo calibrado explica una mayor proporción de la variabilidad en los precios de los vehículos que el modelo original.\n",
    "\n",
    "En resumen, la calibración del modelo XGBoost con los mejores parámetros ha mejorado tanto la precisión de las predicciones (MAE más bajo) como la capacidad del modelo para explicar la variabilidad en los datos (mayor R2).\n",
    "\n",
    "**¿Cómo cada parámetro afecta el desempeño del modelo?**\n",
    "* learning_rate(tasa de aprendizaje):La tasa de aprendizaje controla la magnitud con la que los pesos de los árboles de decisión se actualizan durante el proceso de entrenamiento.En este caso, el valor óptimo encontrado fue de 0.05, lo que sugiere que una tasa de aprendizaje más baja fue preferida para este conjunto de datos.\n",
    "\n",
    "* Gamma:Es un parámetro de regularización que controla la complejidad del modelo mediante la reducción del crecimiento de los árboles.En este caso, el valor óptimo encontrado fue de 0.1, lo que sugiere que una regularización\n",
    "moderada fue preferida para este conjunto de datos.\n",
    "\n",
    "* colsample_bytree: Es la fracción de características que se utilizará para entrenar cada árbol individual.En este caso, el valor óptimo encontrado fue de 0.7, lo que sugiere que utilizar un subconjunto moderado de características fue preferido para este conjunto de datos."
   ]
  },
  {
   "cell_type": "markdown",
   "metadata": {},
   "source": [
    "### Punto 8 - Comparación y análisis de resultados\n",
    "En la celda 8 comparen los resultados obtenidos de los diferentes modelos (random forest y XGBoost) y comenten las ventajas del mejor modelo y las desventajas del modelo con el menor desempeño."
   ]
  },
  {
   "cell_type": "code",
   "execution_count": 37,
   "metadata": {},
   "outputs": [
    {
     "data": {
      "image/png": "[encoded data removed]",
      "text/plain": [
       "<Figure size 720x432 with 1 Axes>"
      ]
     },
     "metadata": {
      "needs_background": "light"
     },
     "output_type": "display_data"
    },
    {
     "data": {
      "image/png": "[encoded data removed]",
      "text/plain": [
       "<Figure size 720x432 with 1 Axes>"
      ]
     },
     "metadata": {
      "needs_background": "light"
     },
     "output_type": "display_data"
    }
   ],
   "source": [
    "# Celda 8\n",
    "# Comparando métricas de los modelos\n",
    "mae_values = [mae_xgboost, mae_xgboost2, mae_rf, mae_rf_optimo]\n",
    "r2_values = [r2_xgboost, r2_xgboost2, r2_rf, r2_rf_optimo]\n",
    "model_names = ['XGBoost', 'XGBoost calibrado', 'Random Forest', 'Random Forest calibrado']\n",
    "\n",
    "# Ordenando métricas por MAE\n",
    "sorted_models_mae = [model_name for _, model_name in sorted(zip(mae_values, model_names))]\n",
    "sorted_mae_values = sorted(mae_values)\n",
    "\n",
    "# Ordenando métricas por R^2\n",
    "sorted_models_r2 = [model_name for _, model_name in sorted(zip(r2_values, model_names), reverse=True)]\n",
    "sorted_r2_values = sorted(r2_values, reverse=True)\n",
    "\n",
    "# Creando el histograma del MAE\n",
    "plt.figure(figsize=(10, 6))\n",
    "plt.bar(sorted_models_mae, sorted_mae_values, color='blue')\n",
    "plt.title('Comparación del MAE de XGBoost y Random Forest antes y después de la calibración (Ordenado)')\n",
    "plt.xlabel('Modelo')\n",
    "plt.ylabel('MAE')\n",
    "plt.show()\n",
    "\n",
    "# Creando el histograma del R^2\n",
    "plt.figure(figsize=(10, 6))\n",
    "plt.bar(sorted_models_r2, sorted_r2_values, color='orange')\n",
    "plt.title('Comparación del R^2 de XGBoost y Random Forest antes y después de la calibración (Ordenado)')\n",
    "plt.xlabel('Modelo')\n",
    "plt.ylabel('R^2')\n",
    "plt.show()\n"
   ]
  }
 ],
 "metadata": {
  "kernelspec": {
   "display_name": "Python 3 (ipykernel)",
   "language": "python",
   "name": "python3"
  },
  "language_info": {
   "codemirror_mode": {
    "name": "ipython",
    "version": 3
   },
   "file_extension": ".py",
   "mimetype": "text/x-python",
   "name": "python",
   "nbconvert_exporter": "python",
   "pygments_lexer": "ipython3",
   "version": "3.9.7"
  }
 },
 "nbformat": 4,
 "nbformat_minor": 4
}
