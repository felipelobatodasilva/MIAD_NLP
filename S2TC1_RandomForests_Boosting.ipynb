{
 "cells": [
  {
   "cell_type": "markdown",
   "metadata": {},
   "source": [
    "![image info](https://raw.githubusercontent.com/albahnsen/MIAD_ML_and_NLP/main/images/banner_1.png)"
   ]
  },
  {
   "cell_type": "markdown",
   "metadata": {},
   "source": [
    "# Taller: Construcción e implementación de modelos Bagging, Random Forest y XGBoost\n",
    "\n",
    "En este taller podrán poner en práctica sus conocimientos sobre la construcción e implementación de modelos de Bagging, Random Forest y XGBoost. El taller está constituido por 8 puntos, en los cuales deberan seguir las intrucciones de cada numeral para su desarrollo."
   ]
  },
  {
   "cell_type": "markdown",
   "metadata": {},
   "source": [
    "## Datos predicción precio de automóviles\n",
    "\n",
    "En este taller se usará el conjunto de datos de Car Listings de Kaggle donde cada observación representa el precio de un automóvil teniendo en cuenta distintas variables como año, marca, modelo, entre otras. El objetivo es predecir el precio del automóvil. Para más detalles puede visitar el siguiente enlace: [datos](https://www.kaggle.com/jpayne/852k-used-car-listings)."
   ]
  },
  {
   "cell_type": "code",
   "execution_count": 1,
   "metadata": {},
   "outputs": [],
   "source": [
    "import warnings\n",
    "warnings.filterwarnings('ignore')"
   ]
  },
  {
   "cell_type": "code",
   "execution_count": 2,
   "metadata": {},
   "outputs": [
    {
     "data": {
      "text/html": [
       "<div>\n",
       "<style scoped>\n",
       "    .dataframe tbody tr th:only-of-type {\n",
       "        vertical-align: middle;\n",
       "    }\n",
       "\n",
       "    .dataframe tbody tr th {\n",
       "        vertical-align: top;\n",
       "    }\n",
       "\n",
       "    .dataframe thead th {\n",
       "        text-align: right;\n",
       "    }\n",
       "</style>\n",
       "<table border=\"1\" class=\"dataframe\">\n",
       "  <thead>\n",
       "    <tr style=\"text-align: right;\">\n",
       "      <th></th>\n",
       "      <th>Price</th>\n",
       "      <th>Year</th>\n",
       "      <th>Mileage</th>\n",
       "      <th>M_Camry</th>\n",
       "      <th>M_Camry4dr</th>\n",
       "      <th>M_CamryBase</th>\n",
       "      <th>M_CamryL</th>\n",
       "      <th>M_CamryLE</th>\n",
       "      <th>M_CamrySE</th>\n",
       "      <th>M_CamryXLE</th>\n",
       "    </tr>\n",
       "  </thead>\n",
       "  <tbody>\n",
       "    <tr>\n",
       "      <th>7</th>\n",
       "      <td>21995</td>\n",
       "      <td>2014</td>\n",
       "      <td>6480</td>\n",
       "      <td>False</td>\n",
       "      <td>False</td>\n",
       "      <td>False</td>\n",
       "      <td>True</td>\n",
       "      <td>False</td>\n",
       "      <td>False</td>\n",
       "      <td>False</td>\n",
       "    </tr>\n",
       "    <tr>\n",
       "      <th>11</th>\n",
       "      <td>13995</td>\n",
       "      <td>2014</td>\n",
       "      <td>39972</td>\n",
       "      <td>False</td>\n",
       "      <td>False</td>\n",
       "      <td>False</td>\n",
       "      <td>False</td>\n",
       "      <td>True</td>\n",
       "      <td>False</td>\n",
       "      <td>False</td>\n",
       "    </tr>\n",
       "    <tr>\n",
       "      <th>167</th>\n",
       "      <td>17941</td>\n",
       "      <td>2016</td>\n",
       "      <td>18989</td>\n",
       "      <td>False</td>\n",
       "      <td>False</td>\n",
       "      <td>False</td>\n",
       "      <td>False</td>\n",
       "      <td>False</td>\n",
       "      <td>True</td>\n",
       "      <td>False</td>\n",
       "    </tr>\n",
       "    <tr>\n",
       "      <th>225</th>\n",
       "      <td>12493</td>\n",
       "      <td>2014</td>\n",
       "      <td>51330</td>\n",
       "      <td>False</td>\n",
       "      <td>False</td>\n",
       "      <td>False</td>\n",
       "      <td>True</td>\n",
       "      <td>False</td>\n",
       "      <td>False</td>\n",
       "      <td>False</td>\n",
       "    </tr>\n",
       "    <tr>\n",
       "      <th>270</th>\n",
       "      <td>7994</td>\n",
       "      <td>2007</td>\n",
       "      <td>116065</td>\n",
       "      <td>False</td>\n",
       "      <td>True</td>\n",
       "      <td>False</td>\n",
       "      <td>False</td>\n",
       "      <td>False</td>\n",
       "      <td>False</td>\n",
       "      <td>False</td>\n",
       "    </tr>\n",
       "  </tbody>\n",
       "</table>\n",
       "</div>"
      ],
      "text/plain": [
       "     Price  Year  Mileage  M_Camry  M_Camry4dr  M_CamryBase  M_CamryL  \\\n",
       "7    21995  2014     6480    False       False        False      True   \n",
       "11   13995  2014    39972    False       False        False     False   \n",
       "167  17941  2016    18989    False       False        False     False   \n",
       "225  12493  2014    51330    False       False        False      True   \n",
       "270   7994  2007   116065    False        True        False     False   \n",
       "\n",
       "     M_CamryLE  M_CamrySE  M_CamryXLE  \n",
       "7        False      False       False  \n",
       "11        True      False       False  \n",
       "167      False       True       False  \n",
       "225      False      False       False  \n",
       "270      False      False       False  "
      ]
     },
     "execution_count": 2,
     "metadata": {},
     "output_type": "execute_result"
    }
   ],
   "source": [
    "# Importación de librerías\n",
    "%matplotlib inline\n",
    "import pandas as pd\n",
    "\n",
    "# Lectura de la información de archivo .csv\n",
    "data = pd.read_csv('https://raw.githubusercontent.com/albahnsen/MIAD_ML_and_NLP/main/datasets/dataTrain_carListings.zip')\n",
    "\n",
    "# Preprocesamiento de datos para el taller\n",
    "data = data.loc[data['Model'].str.contains('Camry')].drop(['Make', 'State'], axis=1)\n",
    "data = data.join(pd.get_dummies(data['Model'], prefix='M'))\n",
    "data = data.drop(['Model'], axis=1)\n",
    "\n",
    "# Visualización dataset\n",
    "data.head()"
   ]
  },
  {
   "cell_type": "code",
   "execution_count": 3,
   "metadata": {},
   "outputs": [],
   "source": [
    "# Separación de variables predictoras (X) y variable de interés (y)\n",
    "y = data['Price']\n",
    "X = data.drop(['Price'], axis=1)"
   ]
  },
  {
   "cell_type": "code",
   "execution_count": 4,
   "metadata": {},
   "outputs": [],
   "source": [
    "# Separación de datos en set de entrenamiento y test\n",
    "from sklearn.model_selection import train_test_split\n",
    "X_train, X_test, y_train, y_test = train_test_split(X, y, test_size=0.33, random_state=42)"
   ]
  },
  {
   "cell_type": "markdown",
   "metadata": {},
   "source": [
    "### Punto 1 - Árbol de decisión manual\n",
    "\n",
    "En la celda 1 creen un árbol de decisión **manualmente**  que considere los set de entrenamiento y test definidos anteriormente y presenten el RMSE y MAE del modelo en el set de test."
   ]
  },
  {
   "cell_type": "code",
   "execution_count": 5,
   "metadata": {},
   "outputs": [],
   "source": [
    "# Celda 1\n"
   ]
  },
  {
   "cell_type": "markdown",
   "metadata": {},
   "source": [
    "### Punto 2 - Bagging manual\n",
    "\n",
    "En la celda 2 creen un modelo bagging **manualmente** con 10 árboles de regresión y comenten sobre el desempeño del modelo."
   ]
  },
  {
   "cell_type": "code",
   "execution_count": 33,
   "metadata": {},
   "outputs": [
    {
     "data": {
      "text/html": [
       "<div>\n",
       "<style scoped>\n",
       "    .dataframe tbody tr th:only-of-type {\n",
       "        vertical-align: middle;\n",
       "    }\n",
       "\n",
       "    .dataframe tbody tr th {\n",
       "        vertical-align: top;\n",
       "    }\n",
       "\n",
       "    .dataframe thead th {\n",
       "        text-align: right;\n",
       "    }\n",
       "</style>\n",
       "<table border=\"1\" class=\"dataframe\">\n",
       "  <thead>\n",
       "    <tr style=\"text-align: right;\">\n",
       "      <th></th>\n",
       "      <th>Tree_1</th>\n",
       "      <th>Tree_2</th>\n",
       "      <th>Tree_3</th>\n",
       "      <th>Tree_4</th>\n",
       "      <th>Tree_5</th>\n",
       "      <th>Tree_6</th>\n",
       "      <th>Tree_7</th>\n",
       "      <th>Tree_8</th>\n",
       "      <th>Tree_9</th>\n",
       "      <th>Tree_10</th>\n",
       "    </tr>\n",
       "  </thead>\n",
       "  <tbody>\n",
       "    <tr>\n",
       "      <th>257343</th>\n",
       "      <td>14980.0</td>\n",
       "      <td>13993.0</td>\n",
       "      <td>13649.0</td>\n",
       "      <td>13649.0</td>\n",
       "      <td>11788.0</td>\n",
       "      <td>13649.0</td>\n",
       "      <td>13993.0</td>\n",
       "      <td>13990.0</td>\n",
       "      <td>13990.0</td>\n",
       "      <td>13993.0</td>\n",
       "    </tr>\n",
       "    <tr>\n",
       "      <th>326011</th>\n",
       "      <td>6492.0</td>\n",
       "      <td>5995.0</td>\n",
       "      <td>5995.0</td>\n",
       "      <td>6987.0</td>\n",
       "      <td>5995.0</td>\n",
       "      <td>5995.0</td>\n",
       "      <td>5995.0</td>\n",
       "      <td>6987.0</td>\n",
       "      <td>5995.0</td>\n",
       "      <td>5995.0</td>\n",
       "    </tr>\n",
       "    <tr>\n",
       "      <th>242354</th>\n",
       "      <td>16491.0</td>\n",
       "      <td>16995.0</td>\n",
       "      <td>16491.0</td>\n",
       "      <td>15997.0</td>\n",
       "      <td>15997.0</td>\n",
       "      <td>16491.0</td>\n",
       "      <td>17591.0</td>\n",
       "      <td>16995.0</td>\n",
       "      <td>17404.0</td>\n",
       "      <td>16491.0</td>\n",
       "    </tr>\n",
       "    <tr>\n",
       "      <th>266376</th>\n",
       "      <td>21990.0</td>\n",
       "      <td>21990.0</td>\n",
       "      <td>22500.0</td>\n",
       "      <td>21990.0</td>\n",
       "      <td>15900.0</td>\n",
       "      <td>21990.0</td>\n",
       "      <td>22500.0</td>\n",
       "      <td>21990.0</td>\n",
       "      <td>15813.0</td>\n",
       "      <td>21990.0</td>\n",
       "    </tr>\n",
       "    <tr>\n",
       "      <th>396954</th>\n",
       "      <td>15988.0</td>\n",
       "      <td>16951.0</td>\n",
       "      <td>15988.0</td>\n",
       "      <td>15988.0</td>\n",
       "      <td>15988.0</td>\n",
       "      <td>17900.0</td>\n",
       "      <td>16951.0</td>\n",
       "      <td>16951.0</td>\n",
       "      <td>15988.0</td>\n",
       "      <td>15988.0</td>\n",
       "    </tr>\n",
       "    <tr>\n",
       "      <th>...</th>\n",
       "      <td>...</td>\n",
       "      <td>...</td>\n",
       "      <td>...</td>\n",
       "      <td>...</td>\n",
       "      <td>...</td>\n",
       "      <td>...</td>\n",
       "      <td>...</td>\n",
       "      <td>...</td>\n",
       "      <td>...</td>\n",
       "      <td>...</td>\n",
       "    </tr>\n",
       "    <tr>\n",
       "      <th>144298</th>\n",
       "      <td>13836.0</td>\n",
       "      <td>14800.0</td>\n",
       "      <td>14800.0</td>\n",
       "      <td>14800.0</td>\n",
       "      <td>14800.0</td>\n",
       "      <td>14681.0</td>\n",
       "      <td>14800.0</td>\n",
       "      <td>14800.0</td>\n",
       "      <td>13836.0</td>\n",
       "      <td>13836.0</td>\n",
       "    </tr>\n",
       "    <tr>\n",
       "      <th>364521</th>\n",
       "      <td>15999.0</td>\n",
       "      <td>14995.0</td>\n",
       "      <td>15999.0</td>\n",
       "      <td>16900.0</td>\n",
       "      <td>15999.0</td>\n",
       "      <td>15999.0</td>\n",
       "      <td>17300.0</td>\n",
       "      <td>15999.0</td>\n",
       "      <td>16900.0</td>\n",
       "      <td>15000.0</td>\n",
       "    </tr>\n",
       "    <tr>\n",
       "      <th>120072</th>\n",
       "      <td>23533.0</td>\n",
       "      <td>23533.0</td>\n",
       "      <td>20000.0</td>\n",
       "      <td>17700.0</td>\n",
       "      <td>17700.0</td>\n",
       "      <td>23533.0</td>\n",
       "      <td>17700.0</td>\n",
       "      <td>23533.0</td>\n",
       "      <td>23533.0</td>\n",
       "      <td>20000.0</td>\n",
       "    </tr>\n",
       "    <tr>\n",
       "      <th>99878</th>\n",
       "      <td>12989.0</td>\n",
       "      <td>12995.0</td>\n",
       "      <td>12989.0</td>\n",
       "      <td>12995.0</td>\n",
       "      <td>12991.0</td>\n",
       "      <td>12991.0</td>\n",
       "      <td>10995.0</td>\n",
       "      <td>12991.0</td>\n",
       "      <td>12991.0</td>\n",
       "      <td>12893.0</td>\n",
       "    </tr>\n",
       "    <tr>\n",
       "      <th>387162</th>\n",
       "      <td>10991.0</td>\n",
       "      <td>11314.0</td>\n",
       "      <td>12999.0</td>\n",
       "      <td>12995.0</td>\n",
       "      <td>9995.0</td>\n",
       "      <td>11995.0</td>\n",
       "      <td>11985.0</td>\n",
       "      <td>10991.0</td>\n",
       "      <td>11314.0</td>\n",
       "      <td>14995.0</td>\n",
       "    </tr>\n",
       "  </tbody>\n",
       "</table>\n",
       "<p>3464 rows × 10 columns</p>\n",
       "</div>"
      ],
      "text/plain": [
       "         Tree_1   Tree_2   Tree_3   Tree_4   Tree_5   Tree_6   Tree_7  \\\n",
       "257343  14980.0  13993.0  13649.0  13649.0  11788.0  13649.0  13993.0   \n",
       "326011   6492.0   5995.0   5995.0   6987.0   5995.0   5995.0   5995.0   \n",
       "242354  16491.0  16995.0  16491.0  15997.0  15997.0  16491.0  17591.0   \n",
       "266376  21990.0  21990.0  22500.0  21990.0  15900.0  21990.0  22500.0   \n",
       "396954  15988.0  16951.0  15988.0  15988.0  15988.0  17900.0  16951.0   \n",
       "...         ...      ...      ...      ...      ...      ...      ...   \n",
       "144298  13836.0  14800.0  14800.0  14800.0  14800.0  14681.0  14800.0   \n",
       "364521  15999.0  14995.0  15999.0  16900.0  15999.0  15999.0  17300.0   \n",
       "120072  23533.0  23533.0  20000.0  17700.0  17700.0  23533.0  17700.0   \n",
       "99878   12989.0  12995.0  12989.0  12995.0  12991.0  12991.0  10995.0   \n",
       "387162  10991.0  11314.0  12999.0  12995.0   9995.0  11995.0  11985.0   \n",
       "\n",
       "         Tree_8   Tree_9  Tree_10  \n",
       "257343  13990.0  13990.0  13993.0  \n",
       "326011   6987.0   5995.0   5995.0  \n",
       "242354  16995.0  17404.0  16491.0  \n",
       "266376  21990.0  15813.0  21990.0  \n",
       "396954  16951.0  15988.0  15988.0  \n",
       "...         ...      ...      ...  \n",
       "144298  14800.0  13836.0  13836.0  \n",
       "364521  15999.0  16900.0  15000.0  \n",
       "120072  23533.0  23533.0  20000.0  \n",
       "99878   12991.0  12991.0  12893.0  \n",
       "387162  10991.0  11314.0  14995.0  \n",
       "\n",
       "[3464 rows x 10 columns]"
      ]
     },
     "execution_count": 33,
     "metadata": {},
     "output_type": "execute_result"
    }
   ],
   "source": [
    "# import numpy as np\n",
    "# import pandas as pd\n",
    "# from sklearn.tree import DecisionTreeRegressor\n",
    "\n",
    "# # Define o estado aleatório para reprodutibilidade\n",
    "# np.random.seed(123)\n",
    "\n",
    "# # Número de estimadores (árvores de decisão) e inicializa uma matriz para armazenar as predições\n",
    "# n_estimators = 10\n",
    "# all_predictions = np.zeros((X_test.shape[0], n_estimators))\n",
    "\n",
    "# # Cria e treina cada árvore de decisão individualmente\n",
    "# for i in range(n_estimators):\n",
    "#     # Cria uma amostra de bootstrap dos dados de treinamento\n",
    "#     sample_indices = np.random.choice(len(X_train), len(X_train), replace=True)\n",
    "#     X_train_sample = X_train.iloc[sample_indices]\n",
    "#     y_train_sample = y_train.iloc[sample_indices]\n",
    "    \n",
    "#     # Treina a árvore de decisão na amostra de bootstrap\n",
    "#     estimator = DecisionTreeRegressor(random_state=123)\n",
    "#     estimator.fit(X_train_sample, y_train_sample)\n",
    "    \n",
    "#     # Armazena as predições da árvore de decisão no conjunto de teste\n",
    "#     all_predictions[:, i] = estimator.predict(X_test)\n",
    "\n",
    "# # Converte as predições para um DataFrame\n",
    "# y_pred_manual_bagging_df = pd.DataFrame(all_predictions, index=X_test.index, columns=[f'Tree_{i+1}' for i in range(n_estimators)])\n",
    "\n",
    "# y_pred_manual_bagging_df"
   ]
  },
  {
   "cell_type": "code",
   "execution_count": 38,
   "metadata": {},
   "outputs": [
    {
     "name": "stdout",
     "output_type": "stream",
     "text": [
      "Árvore 1 tiene un MSE: 4586507.756514306 y un MAE: 1605.3012605850654\n",
      "Árvore 2 tiene un MSE: 4563999.809420709 y un MAE: 1589.8544072363356\n",
      "Árvore 3 tiene un MSE: 4505934.93037112 y un MAE: 1577.7323421862973\n",
      "Árvore 4 tiene un MSE: 4356733.592400805 y un MAE: 1569.6103493071594\n",
      "Árvore 5 tiene un MSE: 4702473.53805716 y un MAE: 1614.8178695150114\n",
      "Árvore 6 tiene un MSE: 4468493.497653323 y un MAE: 1576.055638953041\n",
      "Árvore 7 tiene un MSE: 4528100.856019053 y un MAE: 1582.1453521939954\n",
      "Árvore 8 tiene un MSE: 4771668.2248925455 y un MAE: 1606.3077848344878\n",
      "Árvore 9 tiene un MSE: 4571502.269342764 y un MAE: 1586.4345169361045\n",
      "Árvore 10 tiene un MSE: 4545839.838453538 y un MAE: 1587.769866243264\n",
      "MSE promedio de todos los árboles: 3227180.817664935\n",
      "MAE promedio de todos los árboles: 1340.0160739030025\n"
     ]
    }
   ],
   "source": [
    "# from sklearn.metrics import mean_squared_error, mean_absolute_error\n",
    "\n",
    "# # Calcula o MSE e o MAE para cada árvore individualmente e exibe o resultado\n",
    "# for i in range(1, n_estimators + 1):\n",
    "#     mse = mean_squared_error(y_test, y_pred_manual_bagging_df[f'Tree_{i}'])\n",
    "#     mae = mean_absolute_error(y_test, y_pred_manual_bagging_df[f'Tree_{i}'])\n",
    "#     print(f'Árvore {i} tiene un MSE: {mse} y un MAE: {mae}')\n",
    "\n",
    "# # Calcula o MSE e o MAE da média das predições de todas as árvores\n",
    "# mse_average = mean_squared_error(y_test, y_pred_manual_bagging_df.mean(axis=1))\n",
    "# mae_average = mean_absolute_error(y_test, y_pred_manual_bagging_df.mean(axis=1))\n",
    "# print(f'MSE promedio de todos los árboles: {mse_average}')\n",
    "# print(f'MAE promedio de todos los árboles: {mae_average}')"
   ]
  },
  {
   "cell_type": "code",
   "execution_count": 7,
   "metadata": {},
   "outputs": [
    {
     "name": "stdout",
     "output_type": "stream",
     "text": [
      "Error Absoluto Medio: 1334.9691286222917\n",
      "Error Cuadrático Medio: 3197545.669932286\n"
     ]
    }
   ],
   "source": [
    "import numpy as np\n",
    "import matplotlib.pyplot as plt\n",
    "from sklearn.tree import DecisionTreeRegressor\n",
    "from sklearn.metrics import mean_squared_error\n",
    "from sklearn.metrics import mean_absolute_error\n",
    "\n",
    "\n",
    "# Inicializa una lista para almacenar los arboles individuales\n",
    "arboles = []\n",
    "n_arboles = 10\n",
    "n_muestras = X_train.shape[0]\n",
    "\n",
    "# Crea 10 arboles de regresion\n",
    "for i in range(n_arboles):\n",
    "    # Muestra con reemplazo de X_train e y_train\n",
    "    indices = np.random.choice(range(n_muestras), size=n_muestras, replace=True)\n",
    "    X_train_muestrado = X_train.iloc[indices]\n",
    "    y_train_muestrado = y_train.iloc[indices]\n",
    "    \n",
    "    # Ajusta el arbol de regresion\n",
    "    arbol = DecisionTreeRegressor()\n",
    "    arbol.fit(X_train_muestrado, y_train_muestrado)\n",
    "    \n",
    "    # Almacena el arbol en la lista\n",
    "    arboles.append(arbol)\n",
    "\n",
    "# Función de predicción para el ensemble de bagging\n",
    "def predecir_bagging(X):\n",
    "    # Realiza predicciones con todos los arboles\n",
    "    predicciones = np.array([arbol.predict(X) for arbol in arboles])\n",
    "    \n",
    "    # Promedia las predicciones para obtener la predicción final para cada muestra\n",
    "    return np.mean(predicciones, axis=0)\n",
    "\n",
    "# Evaluar el desempeño del modelo\n",
    "y_pred = predecir_bagging(X_test)\n",
    "\n",
    "# Calculando el MAE usando las predicciones promedio\n",
    "mae = mean_absolute_error(y_test, y_pred)\n",
    "print(f'Error Absoluto Medio: {mae}')\n",
    "\n",
    "# Cálculo del Error Cuadrático Medio (MSE)\n",
    "mse = mean_squared_error(y_test, y_pred)\n",
    "\n",
    "print(f'Error Cuadrático Medio: {mse}')"
   ]
  },
  {
   "cell_type": "markdown",
   "metadata": {},
   "source": [
    "#### Análisis Descriptivo para la Validación del Desempeño del Modelo\n"
   ]
  },
  {
   "cell_type": "code",
   "execution_count": 15,
   "metadata": {},
   "outputs": [
    {
     "name": "stdout",
     "output_type": "stream",
     "text": [
      "count     7031.000000\n",
      "mean     14508.073389\n",
      "std       3927.667432\n",
      "min       5002.000000\n",
      "25%      11998.000000\n",
      "50%      15000.000000\n",
      "75%      16996.000000\n",
      "max      32444.000000\n",
      "Name: Price, dtype: float64\n"
     ]
    },
    {
     "data": {
      "image/png": "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",
      "text/plain": [
       "<Figure size 640x480 with 1 Axes>"
      ]
     },
     "metadata": {},
     "output_type": "display_data"
    },
    {
     "data": {
      "image/png": "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",
      "text/plain": [
       "<Figure size 640x480 with 1 Axes>"
      ]
     },
     "metadata": {},
     "output_type": "display_data"
    }
   ],
   "source": [
    "# Obtener estadísticas descriptivas de los precios de los carros\n",
    "precios_descripcion = y_train.describe()\n",
    "print(precios_descripcion)\n",
    "\n",
    "# Crear un histograma para visualizar la distribución de los precios de los carros\n",
    "plt.hist(y_train, bins=50, edgecolor='black')\n",
    "plt.title('Distribución de los Precios de los Carros')  \n",
    "plt.xlabel('Precio')  \n",
    "plt.ylabel('Número de Carros')  \n",
    "plt.show()  \n",
    "\n",
    "# Crear un boxplot para visualizar la distribución de los precios de los carros\n",
    "plt.boxplot(y_train)\n",
    "plt.title('Boxplot de los Precios de los Carros')\n",
    "plt.ylabel('Precio') \n",
    "plt.show() \n"
   ]
  },
  {
   "cell_type": "code",
   "execution_count": 13,
   "metadata": {},
   "outputs": [
    {
     "data": {
      "text/plain": [
       "9.201568506355429"
      ]
     },
     "execution_count": 13,
     "metadata": {},
     "output_type": "execute_result"
    }
   ],
   "source": [
    "# Calculo del porcentaje del MAE en relación al promedio de precios de los carros\n",
    "MAE = 1334.97\n",
    "media_precios = 14508.07\n",
    "\n",
    "# Porcentaje del MAE en relación al promedio\n",
    "porcentaje_MAE = (MAE / media_precios) * 100\n",
    "porcentaje_MAE"
   ]
  },
  {
   "cell_type": "markdown",
   "metadata": {},
   "source": [
    "#### Desempeño del Modelo\n"
   ]
  },
  {
   "cell_type": "markdown",
   "metadata": {},
   "source": [
    "El algoritmo aplicado ejecuta correctamente la creación de un modelo de bagging de forma manual, utilizando 10 árboles de regresión. El proceso consiste en generar subconjuntos del conjunto de entrenamiento a través de muestreo con reemplazo y entrenar un árbol de regresión independiente en cada uno de estos subconjuntos. Las predicciones del modelo de bagging se obtienen luego por la media de las predicciones de todos los árboles individuales, lo que ayuda a reducir la varianza y mejorar la robustez del modelo en comparación con un único árbol de decisión.\n",
    "\n",
    "En cuanto al rendimiento, el Error Absoluto Medio (MAE) del modelo es de 1334,97, representando aproximadamente el 9,2% del precio medio de los coches, que es de 14508,07. Este valor del MAE indica que el modelo tiene una precisión razonable en la mayoría de los casos. Sin embargo, el Error Cuadrático Medio (MSE) es de 3205891,82, un valor alto que refleja la sensibilidad del MSE a errores mayores, que pueden ser causados por valores atípicos, según se indica en el boxplot.\n",
    "\n",
    "En resumen, el modelo de bagging muestra un rendimiento adecuado según el MAE, sugiriendo que las predicciones promedio están relativamente cercanas a los valores reales. No obstante, el alto valor del MSE indica que el modelo tiene espacio para mejoras, particularmente en la gestión de predicciones para los valores atípicos."
   ]
  },
  {
   "cell_type": "markdown",
   "metadata": {},
   "source": [
    "### Punto 3 - Bagging con librería\n",
    "\n",
    "En la celda 3, con la librería sklearn, entrenen un modelo bagging con 10 árboles de regresión y el parámetro `max_features` igual a `log(n_features)` y comenten sobre el desempeño del modelo."
   ]
  },
  {
   "cell_type": "code",
<<<<<<< HEAD
   "execution_count": 20,
=======
   "execution_count": 23,
>>>>>>> 6ee1728 (Agregando la parte de bagging manual al codigo)
   "metadata": {},
   "outputs": [
    {
     "name": "stdout",
     "output_type": "stream",
     "text": [
      "Error Absoluto Medio (MAE): 1827.342848084451\n",
      "Error Cuadratico Medio (MSE): 5543428.223268038\n"
     ]
    }
   ],
   "source": [
    "from sklearn.ensemble import BaggingRegressor\n",
    "import numpy as np\n",
    "\n",
    "# Calcular o número de features para o parâmetro max_features\n",
    "n_features = X_train.shape[1]\n",
    "max_features = int(np.log(n_features))\n",
    "\n",
    "# Criar o modelo de bagging com 10 árvores de decisão\n",
    "# Nota: O parâmetro base_estimator é opcional e por padrão é DecisionTreeRegressor\n",
    "bagging_model = BaggingRegressor(\n",
    "    n_estimators=10,\n",
    "    max_features=max_features,\n",
<<<<<<< HEAD
    "    bootstrap=True, \n",
    "    oob_score=True, \n",
    "    random_state=1\n",
=======
    "    random_state=0\n",
>>>>>>> 6ee1728 (Agregando la parte de bagging manual al codigo)
    ")\n",
    "\n",
    "# Treinar o modelo com os dados de treinamento\n",
    "bagging_model.fit(X_train, y_train)\n",
    "\n",
    "# Avaliar o modelo com os dados de teste\n",
    "y_pred = bagging_model.predict(X_test)\n",
    "\n",
    "# Calcular métricas de desempenho\n",
    "mae = mean_absolute_error(y_test, y_pred)\n",
    "mse = mean_squared_error(y_test, y_pred)\n",
    "\n",
<<<<<<< HEAD
=======
    "\n",
>>>>>>> 6ee1728 (Agregando la parte de bagging manual al codigo)
    "print(f'Error Absoluto Medio (MAE): {mae}')\n",
    "print(f'Error Cuadratico Medio (MSE): {mse}')"
   ]
  },
  {
   "cell_type": "markdown",
   "metadata": {},
   "source": [
    "### Punto 4 - Random forest con librería\n",
    "\n",
    "En la celda 4, usando la librería sklearn entrenen un modelo de Randon Forest para regresión  y comenten sobre el desempeño del modelo."
   ]
  },
  {
   "cell_type": "code",
   "execution_count": null,
   "metadata": {},
   "outputs": [],
   "source": [
    "# Celda 4\n"
   ]
  },
  {
   "cell_type": "markdown",
   "metadata": {},
   "source": [
    "### Punto 5 - Calibración de parámetros Random forest\n",
    "\n",
    "En la celda 5, calibren los parámetros max_depth, max_features y n_estimators del modelo de Randon Forest para regresión, comenten sobre el desempeño del modelo y describan cómo cada parámetro afecta el desempeño del modelo."
   ]
  },
  {
   "cell_type": "code",
   "execution_count": null,
   "metadata": {},
   "outputs": [],
   "source": [
    "# Celda 5\n"
   ]
  },
  {
   "cell_type": "markdown",
   "metadata": {},
   "source": [
    "### Punto 6 - XGBoost con librería\n",
    "\n",
    "En la celda 6 implementen un modelo XGBoost de regresión con la librería sklearn y comenten sobre el desempeño del modelo."
   ]
  },
  {
   "cell_type": "code",
   "execution_count": null,
   "metadata": {},
   "outputs": [],
   "source": [
    "# Celda 6\n"
   ]
  },
  {
   "cell_type": "markdown",
   "metadata": {},
   "source": [
    "### Punto 7 - Calibración de parámetros XGBoost\n",
    "\n",
    "En la celda 7 calibren los parámetros learning rate, gamma y colsample_bytree del modelo XGBoost para regresión, comenten sobre el desempeño del modelo y describan cómo cada parámetro afecta el desempeño del modelo."
   ]
  },
  {
   "cell_type": "code",
   "execution_count": null,
   "metadata": {},
   "outputs": [],
   "source": [
    "# Celda 7\n"
   ]
  },
  {
   "cell_type": "markdown",
   "metadata": {},
   "source": [
    "### Punto 8 - Comparación y análisis de resultados\n",
    "En la celda 8 comparen los resultados obtenidos de los diferentes modelos (random forest y XGBoost) y comenten las ventajas del mejor modelo y las desventajas del modelo con el menor desempeño."
   ]
  },
  {
   "cell_type": "code",
   "execution_count": null,
   "metadata": {},
   "outputs": [],
   "source": [
    "# Celda 8\n"
   ]
  }
 ],
 "metadata": {
  "kernelspec": {
   "display_name": "Python 3 (ipykernel)",
   "language": "python",
   "name": "python3"
  },
  "language_info": {
   "codemirror_mode": {
    "name": "ipython",
    "version": 3
   },
   "file_extension": ".py",
   "mimetype": "text/x-python",
   "name": "python",
   "nbconvert_exporter": "python",
   "pygments_lexer": "ipython3",
   "version": "3.10.12"
  }
 },
 "nbformat": 4,
 "nbformat_minor": 4
}
