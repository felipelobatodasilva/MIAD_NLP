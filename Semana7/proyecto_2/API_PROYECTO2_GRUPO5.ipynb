{
 "cells": [
  {
   "cell_type": "markdown",
   "metadata": {},
   "source": [
    "# DISPONIBILIZACIÓN DEL MODELO"
   ]
  },
  {
   "cell_type": "markdown",
   "metadata": {},
   "source": [
    "(30 puntos)\n",
    "\n",
    "Se disponibiliza el modelo en una API alojada en un servicio en la nube. (20 puntos)                                                                           \n",
    "Se hacen las predicciones sobre el valor del automóvil en al menos dos observaciones del set de validación. (10 puntos)"
   ]
  },
  {
   "cell_type": "code",
   "execution_count": 1,
   "metadata": {},
   "outputs": [
    {
     "name": "stdout",
     "output_type": "stream",
     "text": [
      " * Serving Flask app 'api_grupo5'\n",
      " * Debug mode: on\n"
     ]
    },
    {
     "name": "stderr",
     "output_type": "stream",
     "text": [
      "[nltk_data] Downloading package punkt to /home/felipe/nltk_data...\n",
      "[nltk_data]   Package punkt is already up-to-date!\n",
      "[nltk_data] Downloading package stopwords to /home/felipe/nltk_data...\n",
      "[nltk_data]   Package stopwords is already up-to-date!\n",
      "[nltk_data] Downloading package wordnet to /home/felipe/nltk_data...\n",
      "[nltk_data]   Package wordnet is already up-to-date!\n",
      "[nltk_data] Downloading package omw-1.4 to /home/felipe/nltk_data...\n",
      "[nltk_data]   Package omw-1.4 is already up-to-date!\n",
      "WARNING: This is a development server. Do not use it in a production deployment. Use a production WSGI server instead.\n",
      " * Running on all addresses (0.0.0.0)\n",
      " * Running on http://127.0.0.1:5000\n",
      " * Running on http://192.168.15.10:5000\n",
      "Press CTRL+C to quit\n",
      "127.0.0.1 - - [22/May/2024 13:34:29] \"GET / HTTP/1.1\" 200 -\n",
      "127.0.0.1 - - [22/May/2024 13:34:29] \"GET /swaggerui/droid-sans.css HTTP/1.1\" 304 -\n",
      "127.0.0.1 - - [22/May/2024 13:34:29] \"GET /swaggerui/swagger-ui-bundle.js HTTP/1.1\" 304 -\n",
      "127.0.0.1 - - [22/May/2024 13:34:29] \"GET /swaggerui/swagger-ui.css HTTP/1.1\" 304 -\n",
      "127.0.0.1 - - [22/May/2024 13:34:29] \"GET /swaggerui/swagger-ui-standalone-preset.js HTTP/1.1\" 304 -\n",
      "127.0.0.1 - - [22/May/2024 13:34:30] \"GET /swagger.json HTTP/1.1\" 200 -\n"
     ]
    }
   ],
   "source": [
    "# Importação de bibliotecas\n",
    "from flask import Flask, request, jsonify\n",
    "from flask_restx import Api, Resource, fields\n",
    "from datetime import datetime\n",
    "from sklearn.pipeline import Pipeline\n",
    "from sklearn.compose import ColumnTransformer\n",
    "from sklearn.feature_extraction.text import TfidfVectorizer\n",
    "from sklearn.impute import SimpleImputer\n",
    "from sklearn.preprocessing import StandardScaler, OrdinalEncoder\n",
    "from werkzeug.utils import cached_property\n",
    "from nltk.tokenize import word_tokenize\n",
    "from nltk.corpus import stopwords\n",
    "from nltk.stem import WordNetLemmatizer\n",
    "import pandas as pd\n",
    "import numpy as np\n",
    "import joblib\n",
    "import traceback\n",
    "import nltk\n",
    "import string\n",
    "\n",
    "# Carregar o modelo, vetor TF-IDF e MultiLabelBinarizer\n",
    "model = joblib.load('modelo.pkl')\n",
    "vectorizer = joblib.load('tfidf_vectorizer.pkl')\n",
    "mlb = joblib.load('mlb.pkl')\n",
    "\n",
    "# Crear la aplicación Flask con el nombre \"api_grupo5\"\n",
    "app = Flask(\"api_grupo5\")\n",
    "\n",
    "# Definir la API Flask con Flask-Restx\n",
    "api = Api(\n",
    "    app,\n",
    "    version='1.0',\n",
    "    title='Movie Genre Classification API',\n",
    "    description='Classify the genre of a movie based on its features'\n",
    ")\n",
    "\n",
    "# Faça o download dos recursos necessários do NLTK (se ainda não tiver feito)\n",
    "nltk.download('punkt')\n",
    "nltk.download('stopwords')\n",
    "nltk.download('wordnet')\n",
    "nltk.download('omw-1.4')\n",
    "\n",
    "# Função de pré-processamento de texto\n",
    "stop_words = set(stopwords.words('english'))\n",
    "lemmatizer = WordNetLemmatizer()\n",
    "\n",
    "def preprocess_text(text):\n",
    "    text = text.lower()\n",
    "    tokens = word_tokenize(text)\n",
    "    tokens = [word for word in tokens if word not in stop_words and word not in string.punctuation and not word.isdigit()]\n",
    "    tokens = [lemmatizer.lemmatize(word) for word in tokens]\n",
    "    processed_text = ' '.join(tokens)\n",
    "    return processed_text\n",
    "\n",
    "movie_genre_model = api.model('MovieGenreModel', {\n",
    "    'plot': fields.String(required=True, description='Plot of the movie')\n",
    "})\n",
    "\n",
    "# Definir la ruta para la API\n",
    "@api.route('/classify')\n",
    "class MovieGenreClassification(Resource):\n",
    "    @api.expect(movie_genre_model)\n",
    "    def post(self):\n",
    "        try:\n",
    "            # Obtener los datos de entrada\n",
    "            data = request.json\n",
    "            print(\"Datos recibidos:\", data)\n",
    "            X_input = pd.DataFrame([data])\n",
    "            print(\"DataFrame de entrada:\", X_input)\n",
    "\n",
    "            # Aplicar el preprocesamiento del texto\n",
    "            processed_input = X_input['plot'].apply(preprocess_text)\n",
    "            print(\"Texto procesado:\", processed_input)\n",
    "\n",
    "            # Vectorizar el texto preprocesado\n",
    "            vectorized_text = vectorizer.transform(processed_input)\n",
    "            print(\"Texto vectorizado:\", vectorized_text)\n",
    "\n",
    "            # Realizar la predicción directamente con el modelo\n",
    "            prediction = model.predict(vectorized_text)\n",
    "            print(\"Predicción:\", prediction)\n",
    "\n",
    "            # Convertir la predicción a nombres de géneros\n",
    "            genre_predictions = mlb.inverse_transform(prediction)\n",
    "            print(\"Géneros predecidos:\", genre_predictions)\n",
    "\n",
    "            # Devolver la predicción\n",
    "            return {'prediction': genre_predictions}\n",
    "\n",
    "        except Exception as e:\n",
    "            traceback.print_exc()\n",
    "            return {'error': str(e)}, 500\n",
    "\n",
    "if __name__ == '__main__':\n",
    "    app.run(debug=True, use_reloader=False, host='0.0.0.0', port=5000)"
   ]
  },
  {
   "cell_type": "code",
   "execution_count": null,
   "metadata": {},
   "outputs": [],
   "source": []
  }
 ],
 "metadata": {
  "kernelspec": {
   "display_name": "Python 3",
   "language": "python",
   "name": "python3"
  },
  "language_info": {
   "codemirror_mode": {
    "name": "ipython",
    "version": 3
   },
   "file_extension": ".py",
   "mimetype": "text/x-python",
   "name": "python",
   "nbconvert_exporter": "python",
   "pygments_lexer": "ipython3",
   "version": "3.10.12"
  }
 },
 "nbformat": 4,
 "nbformat_minor": 2
}
